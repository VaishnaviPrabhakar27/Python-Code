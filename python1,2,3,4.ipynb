{
 "cells": [
  {
   "cell_type": "code",
   "execution_count": 4,
   "id": "59270cab-3ad7-4cc4-9965-17c4b8855606",
   "metadata": {},
   "outputs": [
    {
     "name": "stdin",
     "output_type": "stream",
     "text": [
      "enter the book name olden days\n",
      "enter the pice of the input 500\n"
     ]
    },
    {
     "name": "stdout",
     "output_type": "stream",
     "text": [
      "olden days\n",
      "you can't buy the book\n"
     ]
    }
   ],
   "source": [
    "Book=input(\"enter the book name\")\n",
    "price=int(input(\"enter the pice of the input\"))\n",
    "\n",
    "if price==250:\n",
    "    print(Book)\n",
    "    print(\"you can have the Book\")\n",
    "else:\n",
    "    print(Book)\n",
    "    print(\"you can't buy the book\")\n",
    "\n"
   ]
  },
  {
   "cell_type": "code",
   "execution_count": 7,
   "id": "f608f4e6-61cc-413f-b656-921663b8de2b",
   "metadata": {},
   "outputs": [
    {
     "name": "stdin",
     "output_type": "stream",
     "text": [
      " 8\n",
      " 2\n"
     ]
    },
    {
     "name": "stdout",
     "output_type": "stream",
     "text": [
      "8\n",
      "a is greater than b\n"
     ]
    }
   ],
   "source": [
    "a=input()\n",
    "b=input()\n",
    "\n",
    "if a>b:\n",
    "    print(a)\n",
    "    print(\"a is greater than b\")\n",
    "else:\n",
    "    print(b)\n",
    "    print(\"b is smaller then a\")"
   ]
  },
  {
   "cell_type": "code",
   "execution_count": 8,
   "id": "3a5f7c75-4901-4a4a-ad86-7e35bd422ba6",
   "metadata": {},
   "outputs": [
    {
     "name": "stdout",
     "output_type": "stream",
     "text": [
      "8\n",
      "a is greater than b\n"
     ]
    }
   ],
   "source": [
    "a=8\n",
    "b=2\n",
    "\n",
    "if a>b:\n",
    "    print(a)\n",
    "    print(\"a is greater than b\")\n",
    "else:\n",
    "    print(b)\n",
    "    print(\"b is smaller then a\")"
   ]
  },
  {
   "cell_type": "code",
   "execution_count": 10,
   "id": "34942019-d8aa-4a5a-9307-bd32a0c906f3",
   "metadata": {},
   "outputs": [
    {
     "name": "stdin",
     "output_type": "stream",
     "text": [
      " 6\n",
      " 8\n",
      " 2\n"
     ]
    },
    {
     "name": "stdout",
     "output_type": "stream",
     "text": [
      "b is largest\n"
     ]
    }
   ],
   "source": [
    "a= int(input())\n",
    "b= int(input())\n",
    "c= int(input())\n",
    "\n",
    "if a>b:\n",
    "    if a>c:\n",
    "        print(\"a is largest\")\n",
    "    else:\n",
    "        print(\"c is largest\")\n",
    "\n",
    "else:\n",
    "    if b>c:\n",
    "        print(\"b is largest\")\n",
    "    else:\n",
    "        print(\"c is largest\")"
   ]
  },
  {
   "cell_type": "code",
   "execution_count": 30,
   "id": "d3dd9d8f-a021-4e34-b97c-acac52ba794a",
   "metadata": {},
   "outputs": [
    {
     "name": "stdin",
     "output_type": "stream",
     "text": [
      "enter the marks 8\n"
     ]
    },
    {
     "name": "stdout",
     "output_type": "stream",
     "text": [
      "grand = c+\n"
     ]
    }
   ],
   "source": [
    "marks=int(input(\"enter the marks\"))\n",
    "\n",
    "if marks>=90 and marks<=100:\n",
    "    print(\"grade = A+\")\n",
    "else:\n",
    "    if marks>=80 and marks<90:\n",
    "        print(\"grade = A\")\n",
    "    else:\n",
    "        if marks>=70 and marks<80:\n",
    "            print(\"grade = B+\")\n",
    "        else:\n",
    "            if marks>=60 and marks<70:\n",
    "                print(\"grade = B\")\n",
    "            else:\n",
    "               if marks>=0 and marks<60:\n",
    "                 print(\"grand = c+\")\n",
    "               else:\n",
    "                  print(\"invalid choice\")\n",
    "    \n",
    "    \n"
   ]
  },
  {
   "cell_type": "code",
   "execution_count": 38,
   "id": "21c168f1-1904-4422-82eb-d94652e3e07f",
   "metadata": {},
   "outputs": [
    {
     "name": "stdout",
     "output_type": "stream",
     "text": [
      "1\n",
      "2\n",
      "3\n",
      "4\n",
      "5\n",
      "6\n",
      "7\n",
      "8\n",
      "9\n",
      "10\n"
     ]
    }
   ],
   "source": [
    "for x in range(1,11):\n",
    "    print(x)\n",
    "    \n",
    "\n"
   ]
  },
  {
   "cell_type": "code",
   "execution_count": 39,
   "id": "9191bf79-ebff-426b-bc5d-543b80119863",
   "metadata": {},
   "outputs": [
    {
     "name": "stdout",
     "output_type": "stream",
     "text": [
      "0\n",
      "1\n",
      "2\n",
      "3\n",
      "4\n",
      "5\n",
      "6\n",
      "7\n",
      "8\n",
      "9\n",
      "1\n",
      "2\n",
      "3\n",
      "4\n",
      "5\n",
      "6\n",
      "7\n",
      "8\n",
      "9\n",
      "10\n"
     ]
    }
   ],
   "source": [
    "x=0\n",
    "while x<10:\n",
    "    print(x)\n",
    "    x=x+1\n",
    "\n",
    "for y in range(1,11):\n",
    "    print(y)\n",
    "    \n"
   ]
  },
  {
   "cell_type": "code",
   "execution_count": 51,
   "id": "6098008b-c12f-4a32-90a9-8e37055e0047",
   "metadata": {},
   "outputs": [
    {
     "name": "stdout",
     "output_type": "stream",
     "text": [
      "* \n",
      "* * \n",
      "* * * \n",
      "* * * * \n",
      "* * * * * \n",
      "* * * * * * \n",
      "* * * * * * * \n",
      "* * * * * * * * \n",
      "* * * * * * * * * \n",
      "* * * * * * * * * * \n"
     ]
    }
   ],
   "source": [
    "for y in range(0,10):\n",
    "    for x in range(0,y+1):\n",
    "        print(\"*\",end=\" \")\n",
    "    print()"
   ]
  },
  {
   "cell_type": "code",
   "execution_count": 7,
   "id": "2c8fbec0-185d-47b0-bf4d-fe3729d09370",
   "metadata": {},
   "outputs": [
    {
     "name": "stdin",
     "output_type": "stream",
     "text": [
      "enter the number 123\n"
     ]
    },
    {
     "name": "stdout",
     "output_type": "stream",
     "text": [
      "3\n",
      "32\n",
      "321\n"
     ]
    }
   ],
   "source": [
    "n=int(input(\"enter the number\"))\n",
    "rev=0\n",
    "while(n>0):\n",
    "    rev=(rev*10)+n%10\n",
    "    n=n//10\n",
    "    print(rev);"
   ]
  },
  {
   "cell_type": "code",
   "execution_count": 8,
   "id": "8ed01d8b-d80f-44a6-bdc7-b4e60191b2a4",
   "metadata": {},
   "outputs": [
    {
     "name": "stdin",
     "output_type": "stream",
     "text": [
      "enter the number 202\n"
     ]
    },
    {
     "name": "stdout",
     "output_type": "stream",
     "text": [
      "palindrome\n"
     ]
    }
   ],
   "source": [
    "n=int(input(\"enter the number\"))\n",
    "m=n\n",
    "rev=0\n",
    "while(n>0):\n",
    "    rev=(rev*10)+n%10\n",
    "    n=n//10\n",
    "if m==rev:\n",
    "    print(\"palindrome\")\n",
    "else:\n",
    "    print(\"not palindrome\")"
   ]
  },
  {
   "cell_type": "code",
   "execution_count": 9,
   "id": "7f6ad620-3eeb-45fa-8516-71ea9027bbbe",
   "metadata": {},
   "outputs": [
    {
     "name": "stdin",
     "output_type": "stream",
     "text": [
      "enter the number 456\n"
     ]
    },
    {
     "name": "stdout",
     "output_type": "stream",
     "text": [
      "not palindrome\n"
     ]
    }
   ],
   "source": [
    "n=int(input(\"enter the number\"))\n",
    "m=n\n",
    "rev=0\n",
    "while(n>0):\n",
    "    rev=(rev*10)+n%10\n",
    "    n=n//10\n",
    "if m==rev:\n",
    "    print(\"palindrome\")\n",
    "else:\n",
    "    print(\"not palindrome\")"
   ]
  },
  {
   "cell_type": "code",
   "execution_count": 10,
   "id": "c9aa3031-9b88-4323-a8b9-e7703893e837",
   "metadata": {},
   "outputs": [
    {
     "name": "stdin",
     "output_type": "stream",
     "text": [
      "enter the number 5\n"
     ]
    },
    {
     "name": "stdout",
     "output_type": "stream",
     "text": [
      "5\n",
      "20\n",
      "60\n",
      "120\n",
      "120\n"
     ]
    }
   ],
   "source": [
    "n=int(input(\"enter the number\"))\n",
    "fac=1\n",
    "while(n!=0):\n",
    "    fac=fac*n\n",
    "    n=n-1\n",
    "    print(fac)"
   ]
  },
  {
   "cell_type": "code",
   "execution_count": 1,
   "id": "82d8b9de-2cc7-4ba6-86d9-3b954d477885",
   "metadata": {},
   "outputs": [
    {
     "name": "stdout",
     "output_type": "stream",
     "text": [
      "[1, 2, 3, 4, 5.6, 'raj']\n"
     ]
    }
   ],
   "source": [
    "a=[1,2,3,4,5.6,\"raj\"]\n",
    "print(a)"
   ]
  },
  {
   "cell_type": "code",
   "execution_count": 4,
   "id": "197621cb-f1bc-4aaf-b9aa-08bafc524969",
   "metadata": {},
   "outputs": [
    {
     "name": "stdout",
     "output_type": "stream",
     "text": [
      "3\n",
      "8\n",
      "5\n",
      "3\n",
      "0\n",
      "2\n",
      "5\n",
      "3.4\n"
     ]
    }
   ],
   "source": [
    "a=[3,8,5,3,0,2,5,3.4]\n",
    "for i in range(0,8):\n",
    "    print(a[i])"
   ]
  },
  {
   "cell_type": "code",
   "execution_count": 9,
   "id": "fd6667da-1412-42a5-835a-046db5ad9122",
   "metadata": {},
   "outputs": [
    {
     "name": "stdout",
     "output_type": "stream",
     "text": [
      "8\n",
      "5\n",
      "3\n",
      "0\n",
      "2\n",
      "5\n",
      "3.4\n"
     ]
    }
   ],
   "source": [
    "a=[3,8,5,3,0,2,5,3.4]\n",
    "print(a)\n",
    "for i in range(1,8):\n",
    "    print(a[i])"
   ]
  },
  {
   "cell_type": "code",
   "execution_count": 12,
   "id": "a41723a7-c54f-4689-93ae-6bd04c11d863",
   "metadata": {},
   "outputs": [
    {
     "name": "stdout",
     "output_type": "stream",
     "text": [
      "3\n"
     ]
    }
   ],
   "source": [
    "a=[1,2,3,4,5,67,89]\n",
    "print(a[2])"
   ]
  },
  {
   "cell_type": "code",
   "execution_count": 38,
   "id": "760ec611-c530-47ea-b11d-867ac9419d8f",
   "metadata": {},
   "outputs": [
    {
     "name": "stdout",
     "output_type": "stream",
     "text": [
      "[1, 2, 3, 4, 5]\n",
      "4\n",
      "[1, 2, 3, 5]\n",
      "[1, 2, 3, 5, 10]\n",
      "[1, 2, 3, 5, 10]\n",
      "[1, 2, 3, 5, 10, 3, 11, 3]\n",
      "2\n",
      "3\n",
      "[1, 2, 3, 5, 9, 10, 3, 11, 3]\n",
      "[1, 2, 5, 9, 10, 3, 11, 3]\n",
      "[1, 2, 3, 3, 5, 9, 10, 11]\n",
      "[11, 10, 9, 5, 3, 3, 2, 1]\n",
      "8\n",
      "[1, 2, 3, 4, 5]\n",
      "[11, 10, 9, 5, 3, 3, 2, 1]\n"
     ]
    }
   ],
   "source": [
    "a=[1,2,3,4,5]\n",
    "b=a.copy()\n",
    "print(b)\n",
    "\n",
    "c=b.pop(3)\n",
    "print(c)\n",
    "\n",
    "print(b)\n",
    "b.append(10)\n",
    "print(b)\n",
    "\n",
    "print(b)\n",
    "b.append(3)\n",
    "b.append(11)\n",
    "b.append(3)\n",
    "print(b)\n",
    "print(b.index(3))\n",
    "\n",
    "print(b.count(3))\n",
    "\n",
    "b.insert(4,9)\n",
    "print(b)\n",
    "\n",
    "b.remove(3)\n",
    "print(b)\n",
    "\n",
    "b.sort()\n",
    "print(b)\n",
    "\n",
    "b.sort(reverse=True)\n",
    "print(b)\n",
    "\n",
    "print(len(b))\n",
    "\n",
    "\n",
    "print(a)\n",
    "print(b)\n",
    "b.extend(a)\n"
   ]
  },
  {
   "cell_type": "code",
   "execution_count": 39,
   "id": "4e6d6449-f81a-46e0-a09b-61e9c4e428e9",
   "metadata": {},
   "outputs": [
    {
     "name": "stdout",
     "output_type": "stream",
     "text": [
      "1\n",
      "2\n",
      "3\n",
      "4\n",
      "5\n",
      "6\n",
      "7\n",
      "8\n",
      "9\n"
     ]
    }
   ],
   "source": [
    "a=[1,2,3,4,5,6,7,8,9]\n",
    "for x in a:\n",
    "    print(x)"
   ]
  },
  {
   "cell_type": "code",
   "execution_count": 43,
   "id": "8691650c-547c-4bb7-b87b-7c67974b36d8",
   "metadata": {},
   "outputs": [
    {
     "name": "stdin",
     "output_type": "stream",
     "text": [
      "enter the size of the list:  5\n",
      " 1\n"
     ]
    },
    {
     "name": "stdout",
     "output_type": "stream",
     "text": [
      "['1']\n"
     ]
    },
    {
     "name": "stdin",
     "output_type": "stream",
     "text": [
      " 2\n"
     ]
    },
    {
     "name": "stdout",
     "output_type": "stream",
     "text": [
      "['1', '2']\n"
     ]
    },
    {
     "name": "stdin",
     "output_type": "stream",
     "text": [
      " 3\n"
     ]
    },
    {
     "name": "stdout",
     "output_type": "stream",
     "text": [
      "['1', '2', '3']\n"
     ]
    },
    {
     "name": "stdin",
     "output_type": "stream",
     "text": [
      " 4\n"
     ]
    },
    {
     "name": "stdout",
     "output_type": "stream",
     "text": [
      "['1', '2', '3', '4']\n"
     ]
    },
    {
     "name": "stdin",
     "output_type": "stream",
     "text": [
      " 5\n"
     ]
    },
    {
     "name": "stdout",
     "output_type": "stream",
     "text": [
      "['1', '2', '3', '4', '5']\n"
     ]
    }
   ],
   "source": [
    "n=int(input(\"enter the size of the list: \"))\n",
    "a=[]\n",
    "for x in range(0,n):\n",
    "    x=input()\n",
    "    a.append(x)\n",
    "    print(a)"
   ]
  },
  {
   "cell_type": "code",
   "execution_count": 49,
   "id": "4138ec28-7ee9-4b8c-950b-b52eed3b8958",
   "metadata": {},
   "outputs": [
    {
     "name": "stdin",
     "output_type": "stream",
     "text": [
      "enter the elements: 1 2 3 4 5 6 7 8 9 0\n"
     ]
    },
    {
     "name": "stdout",
     "output_type": "stream",
     "text": [
      "[1, 2, 3, 4, 5, 6, 7, 8, 9, 0]\n"
     ]
    }
   ],
   "source": [
    "#for each\n",
    "L=[int(item) for item in (input(\"enter the elements:\").split())]\n",
    "print(L)"
   ]
  },
  {
   "cell_type": "code",
   "execution_count": 50,
   "id": "1ac4f16e-1a3b-4a66-8de2-f7e99c6e8080",
   "metadata": {},
   "outputs": [
    {
     "name": "stdin",
     "output_type": "stream",
     "text": [
      "enter the elements: a s d f g h\n"
     ]
    },
    {
     "name": "stdout",
     "output_type": "stream",
     "text": [
      "['a', 's', 'd', 'f', 'g', 'h']\n"
     ]
    }
   ],
   "source": [
    "L=[(item) for item in (input(\"enter the elements:\").split())]\n",
    "print(L)"
   ]
  },
  {
   "cell_type": "code",
   "execution_count": 51,
   "id": "d23b52d5-1e80-40bd-b7b6-978e156c99ca",
   "metadata": {},
   "outputs": [
    {
     "name": "stdout",
     "output_type": "stream",
     "text": [
      "[1, 2, 3, 4, 5, 6, 7]\n",
      "<class 'list'>\n"
     ]
    }
   ],
   "source": [
    "a=list([1,2,3,4,5,6,7])\n",
    "print(a)\n",
    "print(type(a))"
   ]
  },
  {
   "cell_type": "code",
   "execution_count": 58,
   "id": "533cc6e9-8a2b-4526-8364-4fe7f086082c",
   "metadata": {},
   "outputs": [
    {
     "name": "stdout",
     "output_type": "stream",
     "text": [
      "(1, 2, 3, 4, 5, 6, 7)\n",
      "<class 'tuple'>\n",
      "[1, 2, 3, 4, 5, 6, 7]\n",
      "<class 'list'>\n",
      "[1, 2, 3, 4, 5, 6, 'raj']\n"
     ]
    }
   ],
   "source": [
    "a=(1,2,3,4,5,6,7)\n",
    "print(a)\n",
    "print(type(a))\n",
    "\n",
    "b=list(a)\n",
    "print(b)\n",
    "print(type(b))\n",
    "b[6]=\"raj\"\n",
    "print(b)"
   ]
  },
  {
   "cell_type": "code",
   "execution_count": 66,
   "id": "4bd7c5c9-6dc8-4633-ae94-87611d81208b",
   "metadata": {},
   "outputs": [
    {
     "name": "stdout",
     "output_type": "stream",
     "text": [
      "7\n",
      "6\n",
      "5\n",
      "4\n",
      "3\n",
      "2\n",
      "1\n"
     ]
    }
   ],
   "source": [
    "a=(1,2,3,4,5,6,7)\n",
    "for x in range(-1,-1*(len(a)+1),-1):\n",
    "    print(a[x])"
   ]
  },
  {
   "cell_type": "code",
   "execution_count": 68,
   "id": "806febf8-6b4d-4ba0-b1f2-875f4495f213",
   "metadata": {},
   "outputs": [
    {
     "name": "stdout",
     "output_type": "stream",
     "text": [
      "6\n",
      "5\n",
      "4\n",
      "3\n",
      "2\n",
      "1\n"
     ]
    }
   ],
   "source": [
    "a=(1,2,3,4,5,6)\n",
    "for x in range(0,len(a)):\n",
    "    print(a[-1*(x+1)])"
   ]
  },
  {
   "cell_type": "code",
   "execution_count": 75,
   "id": "8202e215-ab34-4170-9831-ef0e579c2cb3",
   "metadata": {},
   "outputs": [
    {
     "name": "stdout",
     "output_type": "stream",
     "text": [
      "{1: 'vaish', 2: 'yashu', 3: 'ashu'}\n",
      "yashu\n",
      "dict_keys([1, 2, 3])\n",
      "dict_values(['vaish', 'yashu', 'ashu'])\n",
      "dict_items([(1, 'vaish'), (2, 'yashu'), (3, 'ashu')])\n",
      "None\n",
      "{1: 'vaish', 2: 'yashu', 3: 'ganavi'}\n"
     ]
    }
   ],
   "source": [
    "D={1:\"vaish\",2:\"yashu\",3:\"ashu\"}\n",
    "print(D)\n",
    "print(D[2])\n",
    "print(D.keys())\n",
    "print(D.values())\n",
    "print(D.items())\n",
    "\n",
    "print(D.get(4))\n",
    "\n",
    "D[3]=\"ganavi\"\n",
    "print(D)\n"
   ]
  },
  {
   "cell_type": "code",
   "execution_count": 84,
   "id": "8478a199-3f8b-4da0-8d25-aba866bf2ecf",
   "metadata": {},
   "outputs": [
    {
     "name": "stdin",
     "output_type": "stream",
     "text": [
      "enter the elements of the dictionary 1\n",
      "Enter the key of the dictionary 1\n",
      "Enter the value of the dictionary :\"rani\"\n"
     ]
    },
    {
     "name": "stdout",
     "output_type": "stream",
     "text": [
      "1 :\"rani\"\n"
     ]
    }
   ],
   "source": [
    "#write a program to take key and values as a input from the user and add the input in the dictionary,\n",
    "#if the key is not present in the dictionary otherwise,print key already exist and also print its corresponding value\n",
    "key=int(input())\n",
    "value=int(input())\n",
    "d={1:\"vaishu\",2:\"yashu\"}\n",
    "print(d.get[key]=True)\n",
    "if \n",
    "\n"
   ]
  },
  {
   "cell_type": "code",
   "execution_count": 1,
   "id": "1348fda4-f3de-423e-8be6-020c61856dcf",
   "metadata": {},
   "outputs": [
    {
     "ename": "ZeroDivisionError",
     "evalue": "division by zero",
     "output_type": "error",
     "traceback": [
      "\u001b[1;31m---------------------------------------------------------------------------\u001b[0m",
      "\u001b[1;31mZeroDivisionError\u001b[0m                         Traceback (most recent call last)",
      "Cell \u001b[1;32mIn[1], line 1\u001b[0m\n\u001b[1;32m----> 1\u001b[0m a\u001b[38;5;241m=\u001b[39m\u001b[38;5;241;43m5\u001b[39;49m\u001b[38;5;241;43m/\u001b[39;49m\u001b[38;5;241;43m0\u001b[39;49m\n\u001b[0;32m      2\u001b[0m \u001b[38;5;28mprint\u001b[39m(a)\n",
      "\u001b[1;31mZeroDivisionError\u001b[0m: division by zero"
     ]
    }
   ],
   "source": [
    "#finding the ZeroDivisionError\n",
    "a=5/0\n",
    "print(a)"
   ]
  },
  {
   "cell_type": "code",
   "execution_count": 2,
   "id": "22d4bd06-4229-4f94-b1d4-6e24fdfd8c96",
   "metadata": {},
   "outputs": [
    {
     "ename": "TypeError",
     "evalue": "unsupported operand type(s) for /: 'str' and 'int'",
     "output_type": "error",
     "traceback": [
      "\u001b[1;31m---------------------------------------------------------------------------\u001b[0m",
      "\u001b[1;31mTypeError\u001b[0m                                 Traceback (most recent call last)",
      "Cell \u001b[1;32mIn[2], line 1\u001b[0m\n\u001b[1;32m----> 1\u001b[0m \u001b[38;5;28mprint\u001b[39m(\u001b[38;5;124;43m\"\u001b[39;49m\u001b[38;5;124;43mhello\u001b[39;49m\u001b[38;5;124;43m\"\u001b[39;49m\u001b[38;5;241;43m/\u001b[39;49m\u001b[38;5;241;43m3\u001b[39;49m)\n",
      "\u001b[1;31mTypeError\u001b[0m: unsupported operand type(s) for /: 'str' and 'int'"
     ]
    }
   ],
   "source": [
    "#TypeErroe\n",
    "print(\"hello\"/3)"
   ]
  },
  {
   "cell_type": "code",
   "execution_count": 4,
   "id": "a518aedc-3e26-40e7-9adb-ff72f9599b09",
   "metadata": {},
   "outputs": [
    {
     "name": "stdin",
     "output_type": "stream",
     "text": [
      " 5\n",
      " 0\n"
     ]
    },
    {
     "name": "stdout",
     "output_type": "stream",
     "text": [
      "we can't divide\n",
      "error handelled\n"
     ]
    },
    {
     "ename": "NameError",
     "evalue": "name 'c' is not defined",
     "output_type": "error",
     "traceback": [
      "\u001b[1;31m---------------------------------------------------------------------------\u001b[0m",
      "\u001b[1;31mNameError\u001b[0m                                 Traceback (most recent call last)",
      "Cell \u001b[1;32mIn[4], line 14\u001b[0m\n\u001b[0;32m     10\u001b[0m \u001b[38;5;28;01mfinally\u001b[39;00m:\n\u001b[0;32m     11\u001b[0m     \u001b[38;5;28mprint\u001b[39m(\u001b[38;5;124m\"\u001b[39m\u001b[38;5;124merror handelled\u001b[39m\u001b[38;5;124m\"\u001b[39m)\n\u001b[1;32m---> 14\u001b[0m \u001b[38;5;28mprint\u001b[39m(\u001b[38;5;124m\"\u001b[39m\u001b[38;5;124mwe have recieved the error as :\u001b[39m\u001b[38;5;124m\"\u001b[39m,\u001b[43mc\u001b[49m)\n",
      "\u001b[1;31mNameError\u001b[0m: name 'c' is not defined"
     ]
    }
   ],
   "source": [
    "a=int (input())\n",
    "b=int(input())\n",
    "try:\n",
    "    c=a/b\n",
    "except:\n",
    "    print(\"we can't divide\")\n",
    "else:\n",
    "    print(\"division sucessfull\")\n",
    "    print(c)\n",
    "finally:\n",
    "    print(\"error handelled\")\n",
    "\n",
    "    \n",
    "print(\"we have recieved the error as :\",c)\n",
    "    \n"
   ]
  },
  {
   "cell_type": "code",
   "execution_count": 5,
   "id": "30129c8f-5fd9-4659-9e6b-af069f2b1bf2",
   "metadata": {},
   "outputs": [
    {
     "name": "stdin",
     "output_type": "stream",
     "text": [
      " 5\n",
      " 3\n"
     ]
    },
    {
     "name": "stdout",
     "output_type": "stream",
     "text": [
      "division sucessfull\n",
      "1.6666666666666667\n",
      "error handelled\n",
      "we have recieved the error as : 1.6666666666666667\n"
     ]
    }
   ],
   "source": [
    "a=int (input())\n",
    "b=int(input())\n",
    "try:\n",
    "    c=a/b\n",
    "except:\n",
    "    print(\"we can't divide\")\n",
    "else:\n",
    "    print(\"division sucessfull\")\n",
    "    print(c)\n",
    "finally:\n",
    "    print(\"error handelled\")\n",
    "\n",
    "    \n",
    "print(\"we have recieved the error as :\",c)\n",
    "    "
   ]
  },
  {
   "cell_type": "code",
   "execution_count": 7,
   "id": "e6efb75c-30da-4ec0-99fe-8cdcbb78efcb",
   "metadata": {},
   "outputs": [
    {
     "name": "stdin",
     "output_type": "stream",
     "text": [
      "enter the index 5\n"
     ]
    },
    {
     "name": "stdout",
     "output_type": "stream",
     "text": [
      "6\n",
      "index is found\n",
      "6\n",
      "error handled\n"
     ]
    }
   ],
   "source": [
    "a=[1,2,3,4,5,6,7,8,9]\n",
    "b=int(input(\"enter the index\"))\n",
    "try:\n",
    "    print(a[b])\n",
    "except:\n",
    "    print(\"there is no such index\")\n",
    "else:\n",
    "    print(\"index is found\")\n",
    "    print(a[b])\n",
    "finally:\n",
    "    print(\"error handled\")\n"
   ]
  },
  {
   "cell_type": "code",
   "execution_count": 8,
   "id": "946d33d1-9503-47c7-8720-ca68c960dfd9",
   "metadata": {},
   "outputs": [
    {
     "name": "stdin",
     "output_type": "stream",
     "text": [
      "enter the index 10\n"
     ]
    },
    {
     "name": "stdout",
     "output_type": "stream",
     "text": [
      "there is no such index\n",
      "error handled\n"
     ]
    }
   ],
   "source": [
    "a=[1,2,3,4,5,6,7,8,9]\n",
    "b=int(input(\"enter the index\"))\n",
    "try:\n",
    "    print(a[b])\n",
    "except:\n",
    "    print(\"there is no such index\")\n",
    "else:\n",
    "    print(\"index is found\")\n",
    "    print(a[b])\n",
    "finally:\n",
    "    print(\"error handled\")\n",
    "\n"
   ]
  },
  {
   "cell_type": "code",
   "execution_count": 11,
   "id": "50d00513-7a67-44b6-8980-599f038ac96e",
   "metadata": {},
   "outputs": [
    {
     "name": "stdin",
     "output_type": "stream",
     "text": [
      " 3\n",
      " 4\n"
     ]
    },
    {
     "name": "stdout",
     "output_type": "stream",
     "text": [
      "some unknown error found\n",
      "code execution done\n"
     ]
    }
   ],
   "source": [
    "try:\n",
    "    a=input()\n",
    "    b=input()\n",
    "    x=\"hello\"/3\n",
    "except ValueError:\n",
    "    print(\"value unable to convert\")\n",
    "except ZeroDivisionError:\n",
    "    print(\"can't divide by zero\")\n",
    "except:\n",
    "    print(\"some unknown error found\")\n",
    "else:\n",
    "    print(\"no error\")\n",
    "finally:\n",
    "    print(\"code execution done\")\n"
   ]
  },
  {
   "cell_type": "raw",
   "id": "2a0105c0-e90f-4fad-94a4-025d322d89db",
   "metadata": {},
   "source": []
  },
  {
   "cell_type": "code",
   "execution_count": 21,
   "id": "8ee3ad89-8fed-463a-8bdd-ae9b4227b094",
   "metadata": {},
   "outputs": [
    {
     "name": "stdout",
     "output_type": "stream",
     "text": [
      "length of the dictionary is : 5\n",
      "total of the grades is : 380\n",
      "avg is : 76.0\n"
     ]
    }
   ],
   "source": [
    "a={'Akash':85,'Yashu':80,'Vaishu':70,'venku':78,'aparna':67}\n",
    "b=len(a)\n",
    "print(\"length of the dictionary is :\",b)\n",
    "total=(sum(a.values())\n",
    "print(\"total of the grades is :\",total)\n",
    "avg=total/b\n",
    "print(\"avg is :\",avg)\n",
    "\n"
   ]
  },
  {
   "cell_type": "code",
   "execution_count": null,
   "id": "5e85fdaa-7b4f-442a-9ad2-0cf1f4e3938b",
   "metadata": {},
   "outputs": [],
   "source": [
    "def add(x,y):\n",
    "    return x+y\n",
    "def substract(x,y):\n",
    "    return x-y\n",
    "def multiply(x,y):\n",
    "    return x*y\n",
    "def divide(x,y):\n",
    "    if y==0:\n",
    "        return \"error! division by zerp\"\n",
    "    else:\n",
    "        return x/y\n",
    "def modulo(x,y):\n",
    "    if y==0:\n",
    "        return \"error! modulo by zero\"\n",
    "    else:\n",
    "        return x%y\n",
    "\n",
    "while True:\n",
    "    "
   ]
  },
  {
   "cell_type": "code",
   "execution_count": 35,
   "id": "7c98f564-0788-432b-97c5-0fbcbf4c7ecb",
   "metadata": {},
   "outputs": [
    {
     "name": "stdin",
     "output_type": "stream",
     "text": [
      "enter the number 55055\n"
     ]
    },
    {
     "name": "stdout",
     "output_type": "stream",
     "text": [
      "palindrome\n"
     ]
    }
   ],
   "source": [
    "n=int(input(\"enter the number\"))\n",
    "m=n\n",
    "rev=0\n",
    "while(n>0):\n",
    "    rev=(rev*10)+n%10\n",
    "    n=n//10\n",
    "if m==rev:\n",
    "    print(\"palindrome\")\n",
    "else:\n",
    "    print(\"not palindrome\")"
   ]
  },
  {
   "cell_type": "code",
   "execution_count": 36,
   "id": "1126e6f9-1edf-44d7-9c96-0a90731a1776",
   "metadata": {},
   "outputs": [
    {
     "name": "stdin",
     "output_type": "stream",
     "text": [
      "enter the number 34567\n"
     ]
    },
    {
     "name": "stdout",
     "output_type": "stream",
     "text": [
      "7\n",
      "76\n",
      "765\n",
      "7654\n",
      "76543\n"
     ]
    }
   ],
   "source": [
    "n=int(input(\"enter the number\"))\n",
    "rev=0\n",
    "while(n>0):\n",
    "    rev=(rev*10)+n%10\n",
    "    n=n//10\n",
    "    print(rev);"
   ]
  },
  {
   "cell_type": "code",
   "execution_count": 38,
   "id": "3cc12bf1-2401-42d5-bc9b-c5cd5fff3680",
   "metadata": {},
   "outputs": [
    {
     "name": "stdin",
     "output_type": "stream",
     "text": [
      "enter the number 5\n"
     ]
    },
    {
     "name": "stdout",
     "output_type": "stream",
     "text": [
      "5\n",
      "20\n",
      "60\n",
      "120\n",
      "120\n"
     ]
    }
   ],
   "source": [
    "n=int(input(\"enter the number\"))\n",
    "fac=1\n",
    "while(n!=0):\n",
    "    fac=fac*n\n",
    "    n=n-1\n",
    "    print(fac)"
   ]
  },
  {
   "cell_type": "code",
   "execution_count": 43,
   "id": "a29e66bd-6d49-4447-b603-0f62c2c60b00",
   "metadata": {},
   "outputs": [
    {
     "name": "stdout",
     "output_type": "stream",
     "text": [
      "1.addition\n",
      "2.substraction\n",
      "3.multiplication\n",
      "4.division\n",
      "5.power\n",
      "6.modulus\n",
      "7.exit\n"
     ]
    },
    {
     "name": "stdin",
     "output_type": "stream",
     "text": [
      "enter choice(1/2/3/4/5/6/7: 1\n",
      "Enter the value of a 3\n",
      "Enter the value od b 4\n"
     ]
    },
    {
     "name": "stdout",
     "output_type": "stream",
     "text": [
      "7\n",
      "1.addition\n",
      "2.substraction\n",
      "3.multiplication\n",
      "4.division\n",
      "5.power\n",
      "6.modulus\n",
      "7.exit\n"
     ]
    },
    {
     "name": "stdin",
     "output_type": "stream",
     "text": [
      "enter choice(1/2/3/4/5/6/7: 7\n"
     ]
    }
   ],
   "source": [
    "while True:\n",
    "    print(\"1.addition\")\n",
    "    print(\"2.substraction\")\n",
    "    print(\"3.multiplication\")\n",
    "    print(\"4.division\")\n",
    "    print(\"5.power\")\n",
    "    print(\"6.modulus\")\n",
    "    print(\"7.exit\")\n",
    "    choice=input(\"enter choice(1/2/3/4/5/6/7:\")\n",
    "    if choice=='7':\n",
    "        break\n",
    "    if choice in('1','2','3','4','5','6'):\n",
    "        a=int(input(\"Enter the value of a\"))\n",
    "        b=int(input(\"Enter the value od b\"))\n",
    "        match choice:\n",
    "          case'1':print(a+b)\n",
    "          case'2':print(a-b)\n",
    "          case'3':print(a*b)\n",
    "          case'4':print(a/b)\n",
    "          case'5':print(a^b)\n",
    "          case'6':print(a%b)\n",
    "    else:\n",
    "        print(\"invalid choice\")"
   ]
  },
  {
   "cell_type": "code",
   "execution_count": 51,
   "id": "67e6410f-4081-4ec8-86b1-6aba8f6d4790",
   "metadata": {},
   "outputs": [
    {
     "name": "stdin",
     "output_type": "stream",
     "text": [
      "enter the string 'vaishu'\n"
     ]
    },
    {
     "name": "stdout",
     "output_type": "stream",
     "text": [
      "special character\n",
      "lower case alphabet\n",
      "lower case alphabet\n",
      "lower case alphabet\n",
      "lower case alphabet\n",
      "lower case alphabet\n",
      "lower case alphabet\n",
      "special character\n"
     ]
    }
   ],
   "source": [
    "i=input(\"enter the string\")\n",
    "for character in i:\n",
    "    if len(character)==1:\n",
    "        if 'a'<=character<='z':\n",
    "            print(\"lower case alphabet\")\n",
    "        elif 'A'<=character<='Z':\n",
    "            print(\"upper case alphabet\")\n",
    "        elif '0'<=character<='9':\n",
    "            print(\"numeric\")\n",
    "        else:\n",
    "            print(\"special character\")\n",
    "    else:\n",
    "        print(\"enter a single character\")"
   ]
  },
  {
   "cell_type": "code",
   "execution_count": 52,
   "id": "45cdba98-44b8-4fcc-a5ac-ebb239dc4005",
   "metadata": {},
   "outputs": [
    {
     "name": "stdin",
     "output_type": "stream",
     "text": [
      "enter the number 55055\n"
     ]
    },
    {
     "name": "stdout",
     "output_type": "stream",
     "text": [
      "palindrome\n"
     ]
    }
   ],
   "source": [
    "n=int(input(\"enter the number\"))\n",
    "m=n\n",
    "rev=0\n",
    "while(n>0):\n",
    "    rev=(rev*10)+n%10\n",
    "    n=n//10\n",
    "if m==rev:\n",
    "    print(\"palindrome\")\n",
    "else:\n",
    "    print(\"not palindrome\")"
   ]
  },
  {
   "cell_type": "code",
   "execution_count": 53,
   "id": "90bf27d5-8d9e-4f9c-88c1-5806008cbc28",
   "metadata": {},
   "outputs": [
    {
     "name": "stdin",
     "output_type": "stream",
     "text": [
      "enter the number 3456\n"
     ]
    },
    {
     "name": "stdout",
     "output_type": "stream",
     "text": [
      "6\n",
      "65\n",
      "654\n",
      "6543\n"
     ]
    }
   ],
   "source": [
    "n=int(input(\"enter the number\"))\n",
    "rev=0\n",
    "while(n>0):\n",
    "    rev=(rev*10)+n%10\n",
    "    n=n//10\n",
    "    print(rev);"
   ]
  },
  {
   "cell_type": "code",
   "execution_count": 16,
   "id": "50c4c07c-b7c3-43a6-a4f2-f4d0dc1bbe8b",
   "metadata": {},
   "outputs": [
    {
     "name": "stdin",
     "output_type": "stream",
     "text": [
      " 3\n"
     ]
    }
   ],
   "source": [
    "n=int(input())\n",
    "for i in range(2,n//2):\n",
    "    if n%i==0:\n",
    "        print(\"not a prime\")\n",
    "    else: \n",
    "        print(\"prime\")"
   ]
  },
  {
   "cell_type": "code",
   "execution_count": 57,
   "id": "a13e156d-66b9-42f1-b000-47233c48e6c7",
   "metadata": {},
   "outputs": [
    {
     "name": "stdin",
     "output_type": "stream",
     "text": [
      "enter the number 3\n"
     ]
    },
    {
     "name": "stdout",
     "output_type": "stream",
     "text": [
      "3\n",
      "6\n",
      "6\n"
     ]
    }
   ],
   "source": [
    "n=int(input(\"enter the number\"))\n",
    "fac=1\n",
    "while(n!=0):\n",
    "    fac=fac*n\n",
    "    n=n-1\n",
    "    print(fac)"
   ]
  },
  {
   "cell_type": "code",
   "execution_count": 2,
   "id": "63c7eab0-270f-47ec-aec4-5fb736d77c2d",
   "metadata": {},
   "outputs": [
    {
     "name": "stdout",
     "output_type": "stream",
     "text": [
      "16\n",
      "no error\n",
      "code execution done\n"
     ]
    }
   ],
   "source": [
    "try:\n",
    "    list=[1,3,3,4,5]\n",
    "    result=sum(list)\n",
    "    print(result)\n",
    "except TypeError:\n",
    "    print(\"different type\")\n",
    "else:\n",
    "    print(\"no error\")\n",
    "finally:\n",
    "    print(\"code execution done\")"
   ]
  },
  {
   "cell_type": "code",
   "execution_count": 3,
   "id": "c1e97074-2664-4f3b-91d4-74d83e242d2a",
   "metadata": {},
   "outputs": [
    {
     "name": "stdout",
     "output_type": "stream",
     "text": [
      "2.0\n",
      "no error\n",
      "code execution done\n"
     ]
    }
   ],
   "source": [
    "student_grades={1:'vaishu',2:'yashu',3:'ashitha'}\n",
    "try:\n",
    "    total=0\n",
    "    total=sum(student_grades)\n",
    "    num=len(student_grades)\n",
    "    average=total/num\n",
    "    print(average)\n",
    "except ZeroDivisionError:\n",
    "    print(\"dictionary is empty\")\n",
    "else:\n",
    "    print(\"no error\")\n",
    "finally:\n",
    "    print(\"code execution done\")"
   ]
  },
  {
   "cell_type": "code",
   "execution_count": 7,
   "id": "a4ad82ed-7470-4745-9fbd-ecb9d44b5aa4",
   "metadata": {},
   "outputs": [
    {
     "name": "stdin",
     "output_type": "stream",
     "text": [
      " @\n"
     ]
    },
    {
     "name": "stdout",
     "output_type": "stream",
     "text": [
      "Ais a special case\n"
     ]
    }
   ],
   "source": [
    "#DAY 4\n",
    "a=input()\n",
    "if a.isupper():\n",
    "    print(\"A is a upper case charecter\")\n",
    "elif a.islower():\n",
    "    print(\"A is a lower case charecter\")\n",
    "elif a.isnumeric():\n",
    "    print(\"A is a number\")\n",
    "else:\n",
    "    print(\"A is a special case\")\n",
    "    "
   ]
  },
  {
   "cell_type": "code",
   "execution_count": 14,
   "id": "d4ffd2b0-3fcc-4bd6-a522-5efc631cd716",
   "metadata": {},
   "outputs": [
    {
     "name": "stdin",
     "output_type": "stream",
     "text": [
      " abcd\n"
     ]
    },
    {
     "name": "stdout",
     "output_type": "stream",
     "text": [
      "not pallindrome\n"
     ]
    }
   ],
   "source": [
    "a=input()\n",
    "flag=0\n",
    "for i in range(0,int(len(a)/2)):\n",
    "    if a[i] !=a[(i+1)*-1]:\n",
    "        flag=1\n",
    "        break\n",
    "if flag:\n",
    "    print(\"not pallindrome\")\n",
    "else:\n",
    "    print(\"pallindrome\")"
   ]
  },
  {
   "cell_type": "code",
   "execution_count": 30,
   "id": "d72c45de-0585-44fd-9e43-b112b0fac619",
   "metadata": {},
   "outputs": [
    {
     "name": "stdin",
     "output_type": "stream",
     "text": [
      " 9\n"
     ]
    },
    {
     "name": "stdout",
     "output_type": "stream",
     "text": [
      "not a prime\n"
     ]
    }
   ],
   "source": [
    "n=int(input())\n",
    "for i in range(2,int(n/2)):\n",
    "    if n%i==0:\n",
    "        print(\"not a prime\")\n",
    "        break\n",
    "else: \n",
    "        print(\"prime\")\n",
    "        "
   ]
  },
  {
   "cell_type": "code",
   "execution_count": null,
   "id": "fd04aa41-fbae-4112-846e-e45695d42f80",
   "metadata": {},
   "outputs": [],
   "source": [
    "#FILE HANDLING\n",
    "#CREATE,READ,UPDATE,DELETE"
   ]
  },
  {
   "cell_type": "code",
   "execution_count": null,
   "id": "c1c679a7-4adf-44ac-96e2-74d64f6b586f",
   "metadata": {},
   "outputs": [],
   "source": [
    "if__name__=='__main__':\n",
    "   filename==\"example.txt\"\n",
    "   new__filename=\"new_example.txt\"\n",
    "\n",
    "   create_file(filename)\n",
    "   read_file(filename)\n",
    "   append_file(filename,\"this is some additional text.\\n\")\n",
    "   read_file(filename)\n",
    "   rename_file(filename,new_filename)\n",
    "   read_file(new_filename)"
   ]
  },
  {
   "cell_type": "code",
   "execution_count": 11,
   "id": "ffda4c7e-8388-4992-8eee-72540b7cd628",
   "metadata": {},
   "outputs": [],
   "source": [
    "import os\n",
    "\n",
    "with open(\"file4.txt\",'w') as f:\n",
    "    f.write(\"\\nThis is the first text in file\\n\")\n",
    "    f.close()"
   ]
  },
  {
   "cell_type": "code",
   "execution_count": 12,
   "id": "6b52f806-9b00-4e52-8714-50c085175b67",
   "metadata": {},
   "outputs": [],
   "source": [
    "import os\n",
    "with open(\"file4.txt\",'a')as f:\n",
    "    f.write(\"\\nthis is the second text in the file\\n\")\n",
    "    f.close()"
   ]
  },
  {
   "cell_type": "code",
   "execution_count": null,
   "id": "0d2c786d-b82f-409c-9555-273c42b2eb18",
   "metadata": {},
   "outputs": [],
   "source": [
    "import os\n",
    "\n",
    "os.remove(\"file1.txt\")"
   ]
  },
  {
   "cell_type": "code",
   "execution_count": 14,
   "id": "b0565561-ba35-42fa-809f-7f430664a30b",
   "metadata": {},
   "outputs": [
    {
     "name": "stdout",
     "output_type": "stream",
     "text": [
      "This\n",
      "111\n",
      "is\n",
      "111\n",
      "the\n",
      "111\n",
      "first\n",
      "111\n",
      "text\n",
      "111\n",
      "in\n",
      "111\n",
      "file\n",
      "111\n",
      "this\n",
      "111\n",
      "is\n",
      "111\n",
      "the\n",
      "111\n",
      "second\n",
      "111\n",
      "text\n",
      "111\n",
      "in\n",
      "111\n",
      "the\n",
      "111\n",
      "file\n",
      "111\n"
     ]
    }
   ],
   "source": [
    "import os \n",
    "with open(\"file4.txt\",'r')as f:\n",
    "    for a in f.read().split():\n",
    "        print(a)\n",
    "        print(\"111\")\n",
    "\n",
    "f.close()"
   ]
  },
  {
   "cell_type": "code",
   "execution_count": 22,
   "id": "03f57bef-39e0-4825-bfd2-a2a5229f30f1",
   "metadata": {},
   "outputs": [
    {
     "name": "stdout",
     "output_type": "stream",
     "text": [
      "this\n",
      "222\n",
      "is\n",
      "222\n",
      "the\n",
      "222\n",
      "first\n",
      "222\n",
      "file\n",
      "222\n",
      "this\n",
      "222\n",
      "is\n",
      "222\n",
      "the\n",
      "222\n",
      "second\n",
      "222\n",
      "file\n",
      "222\n"
     ]
    }
   ],
   "source": [
    "import os\n",
    "\n",
    "\n",
    "with open(\"file.txt\",'w') as f:\n",
    "    f.write(\"\\n this is the first file\\n\")\n",
    "     \n",
    "\n",
    "with open(\"file.txt\",'a') as f:\n",
    "    f.write(\"\\n this is the second file\\n\")\n",
    "    \n",
    "\n",
    "with open(\"file.txt\",'r') as f:\n",
    "    for a in f.read().split():\n",
    "        print(a)\n",
    "        print(222)\n",
    "\n",
    "f.close()"
   ]
  },
  {
   "cell_type": "code",
   "execution_count": 41,
   "id": "33ae1872-fe3b-4db7-b0f1-37e8b712a224",
   "metadata": {},
   "outputs": [],
   "source": [
    "import os\n",
    "\n",
    "with open(\"Fruit.txt\",'w') as a:\n",
    "    \n",
    "    a.write(\"1.Apple\\n2.Banana\\n3.Mango\\n4.Grapes\")\n",
    "with open(\"Fruit.txt\",'r') as a:\n",
    "    content=a.read()\n",
    "\n",
    "content = content.replace(\"Banana\",\"Water melon\")\n",
    "\n",
    "with open(\"Fruit.txt\",'w') as a:\n",
    "          a.write(\"Water melon\")\n",
    "\n",
    "a.close()"
   ]
  },
  {
   "cell_type": "code",
   "execution_count": 40,
   "id": "7648e0d3-da2a-4b5b-b2dc-afb37423476a",
   "metadata": {},
   "outputs": [],
   "source": [
    "import os\n",
    "\n",
    "with open(\"Fruit.txt\",'w') as a:\n",
    "    \n",
    "    a.write(\"1.Apple\\n2.Banana\\n3.Mango\\n4.Grapes\")\n",
    "with open(\"Fruit.txt\",'r') as a:\n",
    "    content=a.read()\n",
    "\n",
    "new_content = content.replace(\"Banana\",\"Water melon\")\n",
    "\n",
    "a.close()"
   ]
  },
  {
   "cell_type": "code",
   "execution_count": 5,
   "id": "42250c69-ab90-46f1-8061-1fd4e040eac6",
   "metadata": {},
   "outputs": [
    {
     "name": "stdin",
     "output_type": "stream",
     "text": [
      "text: anusha\n"
     ]
    },
    {
     "name": "stdout",
     "output_type": "stream",
     "text": [
      "count: 3\n"
     ]
    }
   ],
   "source": [
    "#count the number of vowels in a String\n",
    "text=input(\"text:\")\n",
    "count=0\n",
    "for character in text:\n",
    "    if(character in\"aAeEiIoOuU\"):\n",
    "        count+=1\n",
    "print(\"count:\",count)"
   ]
  },
  {
   "cell_type": "code",
   "execution_count": 8,
   "id": "e166fb30-4b68-4fd9-8a07-4d7dc7136333",
   "metadata": {},
   "outputs": [
    {
     "data": {
      "text/plain": [
       "20"
      ]
     },
     "execution_count": 8,
     "metadata": {},
     "output_type": "execute_result"
    }
   ],
   "source": [
    "#find the sum of all even numbers in a string\n",
    "def even_sum(numbers):\n",
    "    sum=0\n",
    "    for n in numbers:\n",
    "        if n%2==0:\n",
    "            \n",
    "            sum=sum+n\n",
    "    return sum\n",
    "\n",
    "even_sum([1,2,3,4,5,6,7,8,9])"
   ]
  },
  {
   "cell_type": "code",
   "execution_count": 12,
   "id": "0324e20c-178d-4920-8319-141cf0a810fb",
   "metadata": {},
   "outputs": [
    {
     "name": "stdout",
     "output_type": "stream",
     "text": [
      "the element has occured : 2\n"
     ]
    }
   ],
   "source": [
    "#count the occurrences of each element in a list\n",
    "mylist=[15,11,12,13,4,5,11,12,6,5,4,3,10,15,13,5,4,2,]\n",
    "x=15\n",
    "count=0\n",
    "\n",
    "for element in mylist:\n",
    "    if(element==x):\n",
    "        count=count+1\n",
    "print(\"the element has occured :\",count)"
   ]
  },
  {
   "cell_type": "code",
   "execution_count": 15,
   "id": "355f3e42-ee16-4758-ab96-221756b8f934",
   "metadata": {},
   "outputs": [
    {
     "name": "stdout",
     "output_type": "stream",
     "text": [
      "[11, 12, 34, 46, 65, 76, 89, 90]\n",
      "largest number is 90\n",
      "second number is 89\n"
     ]
    }
   ],
   "source": [
    "#find a second largest number in a given list\n",
    "a=[12,34,65,89,76,90,46,11]\n",
    "a.sort()\n",
    "print(a)\n",
    "\n",
    "print(\"largest number is\",a[-1])\n",
    "print(\"second number is\",a[-2])\n",
    "    "
   ]
  },
  {
   "cell_type": "code",
   "execution_count": 21,
   "id": "b2774b4e-ac99-44d6-9459-79fbcc146961",
   "metadata": {},
   "outputs": [
    {
     "name": "stdout",
     "output_type": "stream",
     "text": [
      "['welcome', 'to', 'python', 'programming']\n",
      "['programming', 'python', 'to', 'welcome']\n",
      "programming python to welcome\n"
     ]
    }
   ],
   "source": [
    "#Reverse the words in a given sentence\n",
    "str=\"welcome to python programming\"\n",
    "words=str.split(\" \")\n",
    "print(words)\n",
    "\n",
    "words=words[-1::-1]\n",
    "print(words)\n",
    "\n",
    "b=' '.join(words)\n",
    "print(b)\n"
   ]
  },
  {
   "cell_type": "code",
   "execution_count": 24,
   "id": "a279a910-9294-4398-af98-688ed20264c3",
   "metadata": {},
   "outputs": [
    {
     "name": "stdin",
     "output_type": "stream",
     "text": [
      "enter the celcius 0\n"
     ]
    },
    {
     "name": "stdout",
     "output_type": "stream",
     "text": [
      "0.00 celcius=32.00 fahrenheit\n"
     ]
    }
   ],
   "source": [
    "#convert a temperaturn from celcius to fahrenheit\n",
    "celcius=int(input(\"enter the celcius\"))\n",
    "fahrenheit=(celcius*1.8)+32\n",
    "print(\"%.2f celcius=%.2f fahrenheit\" %(celcius,fahrenheit))"
   ]
  },
  {
   "cell_type": "code",
   "execution_count": null,
   "id": "4be196b0-6f21-418b-90ef-d287c2d8dc8b",
   "metadata": {},
   "outputs": [],
   "source": []
  }
 ],
 "metadata": {
  "kernelspec": {
   "display_name": "Python 3 (ipykernel)",
   "language": "python",
   "name": "python3"
  },
  "language_info": {
   "codemirror_mode": {
    "name": "ipython",
    "version": 3
   },
   "file_extension": ".py",
   "mimetype": "text/x-python",
   "name": "python",
   "nbconvert_exporter": "python",
   "pygments_lexer": "ipython3",
   "version": "3.12.3"
  }
 },
 "nbformat": 4,
 "nbformat_minor": 5
}
