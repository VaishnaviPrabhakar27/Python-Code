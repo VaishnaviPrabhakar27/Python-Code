{
 "cells": [
  {
   "cell_type": "code",
   "execution_count": 1,
   "id": "5207af0c-7361-4ff0-abbe-8290e14014fc",
   "metadata": {},
   "outputs": [
    {
     "name": "stdout",
     "output_type": "stream",
     "text": [
      "1.addition\n",
      "2.substraction\n",
      "3.multiplication\n",
      "4.division\n",
      "5.power\n",
      "6.modulus\n",
      "7.exit\n"
     ]
    },
    {
     "name": "stdin",
     "output_type": "stream",
     "text": [
      "enter choice(1/2/3/4/5/6/7: 2\n",
      "Enter the value of a 6\n",
      "Enter the value od b 8\n"
     ]
    },
    {
     "name": "stdout",
     "output_type": "stream",
     "text": [
      "-2\n",
      "1.addition\n",
      "2.substraction\n",
      "3.multiplication\n",
      "4.division\n",
      "5.power\n",
      "6.modulus\n",
      "7.exit\n"
     ]
    },
    {
     "name": "stdin",
     "output_type": "stream",
     "text": [
      "enter choice(1/2/3/4/5/6/7: 7\n"
     ]
    }
   ],
   "source": [
    "while True:\n",
    "    print(\"1.addition\")\n",
    "    print(\"2.substraction\")\n",
    "    print(\"3.multiplication\")\n",
    "    print(\"4.division\")\n",
    "    print(\"5.power\")\n",
    "    print(\"6.modulus\")\n",
    "    print(\"7.exit\")\n",
    "    choice=input(\"enter choice(1/2/3/4/5/6/7:\")\n",
    "    if choice=='7':\n",
    "        break\n",
    "    if choice in('1','2','3','4','5','6'):\n",
    "        a=int(input(\"Enter the value of a\"))\n",
    "        b=int(input(\"Enter the value od b\"))\n",
    "        match choice:\n",
    "          case'1':print(a+b)\n",
    "          case'2':print(a-b)\n",
    "          case'3':print(a*b)\n",
    "          case'4':print(a/b)\n",
    "          case'5':print(a^b)\n",
    "          case'6':print(a%b)\n",
    "    else:\n",
    "        print(\"invalid choice\")"
   ]
  },
  {
   "cell_type": "code",
   "execution_count": 3,
   "id": "bb9417ce-6842-484b-9f6e-d07c67aa58b4",
   "metadata": {},
   "outputs": [
    {
     "name": "stdin",
     "output_type": "stream",
     "text": [
      "enter the string 'va%shu'\n"
     ]
    },
    {
     "name": "stdout",
     "output_type": "stream",
     "text": [
      "special character\n",
      "lower case alphabet\n",
      "lower case alphabet\n",
      "special character\n",
      "lower case alphabet\n",
      "lower case alphabet\n",
      "lower case alphabet\n",
      "special character\n"
     ]
    }
   ],
   "source": [
    "i=input(\"enter the string\")\n",
    "for character in i:\n",
    "    if len(character)==1:\n",
    "        if 'a'<=character<='z':\n",
    "            print(\"lower case alphabet\")\n",
    "        elif 'A'<=character<='Z':\n",
    "            print(\"upper case alphabet\")\n",
    "        elif '0'<=character<='9':\n",
    "            print(\"numeric\")\n",
    "        else:\n",
    "            print(\"special character\")\n",
    "    else:\n",
    "        print(\"enter a single character\")"
   ]
  },
  {
   "cell_type": "code",
   "execution_count": 4,
   "id": "d7304b4e-6670-4afe-a27c-5a1dbd6187c2",
   "metadata": {},
   "outputs": [
    {
     "name": "stdin",
     "output_type": "stream",
     "text": [
      "enter the number 55055\n"
     ]
    },
    {
     "name": "stdout",
     "output_type": "stream",
     "text": [
      "palindrome\n"
     ]
    }
   ],
   "source": [
    "n=int(input(\"enter the number\"))\n",
    "m=n\n",
    "rev=0\n",
    "while(n>0):\n",
    "    rev=(rev*10)+n%10\n",
    "    n=n//10\n",
    "if m==rev:\n",
    "    print(\"palindrome\")\n",
    "else:\n",
    "    print(\"not palindrome\")"
   ]
  },
  {
   "cell_type": "code",
   "execution_count": 5,
   "id": "c4502cae-354c-40ab-abfd-8c6f5d7a4558",
   "metadata": {},
   "outputs": [
    {
     "name": "stdin",
     "output_type": "stream",
     "text": [
      "enter the number 5678\n"
     ]
    },
    {
     "name": "stdout",
     "output_type": "stream",
     "text": [
      "8\n",
      "87\n",
      "876\n",
      "8765\n"
     ]
    }
   ],
   "source": [
    "n=int(input(\"enter the number\"))\n",
    "rev=0\n",
    "while(n>0):\n",
    "    rev=(rev*10)+n%10\n",
    "    n=n//10\n",
    "    print(rev);"
   ]
  },
  {
   "cell_type": "code",
   "execution_count": 6,
   "id": "be74889d-29a9-43e6-955d-d5a95eb9c728",
   "metadata": {},
   "outputs": [
    {
     "name": "stdin",
     "output_type": "stream",
     "text": [
      " 6\n"
     ]
    },
    {
     "name": "stdout",
     "output_type": "stream",
     "text": [
      "not a prime\n"
     ]
    }
   ],
   "source": [
    "n=int(input())\n",
    "for i in range(2,n//2):\n",
    "    if n%i==0:\n",
    "        print(\"not a prime\")\n",
    "    else:\n",
    "        print(\"prime\")"
   ]
  },
  {
   "cell_type": "code",
   "execution_count": 7,
   "id": "8502bf26-abee-487f-9feb-ad1e66b7e3a2",
   "metadata": {},
   "outputs": [
    {
     "name": "stdin",
     "output_type": "stream",
     "text": [
      "enter the number 2\n"
     ]
    },
    {
     "name": "stdout",
     "output_type": "stream",
     "text": [
      "2\n",
      "2\n"
     ]
    }
   ],
   "source": [
    "n=int(input(\"enter the number\"))\n",
    "fac=1\n",
    "while(n!=0):\n",
    "    fac=fac*n\n",
    "    n=n-1\n",
    "    print(fac)"
   ]
  },
  {
   "cell_type": "code",
   "execution_count": 8,
   "id": "00b02a40-adaa-4af0-9b31-46f794e8f7e3",
   "metadata": {},
   "outputs": [
    {
     "name": "stdout",
     "output_type": "stream",
     "text": [
      "16\n",
      "no error\n",
      "code execution done\n"
     ]
    }
   ],
   "source": [
    "try:\n",
    "    list=[1,3,3,4,5]\n",
    "    result=sum(list)\n",
    "    print(result)\n",
    "except TypeError:\n",
    "    print(\"different type\")\n",
    "else:\n",
    "    print(\"no error\")\n",
    "finally:\n",
    "    print(\"code execution done\")"
   ]
  },
  {
   "cell_type": "code",
   "execution_count": 9,
   "id": "f708ccfd-df74-47f4-98d8-836b55b1e08b",
   "metadata": {},
   "outputs": [
    {
     "name": "stdout",
     "output_type": "stream",
     "text": [
      "2.0\n",
      "no error\n",
      "code execution done\n"
     ]
    }
   ],
   "source": [
    "student_grades={1:'vaishu',2:'yashu',3:'ashitha'}\n",
    "try:\n",
    "    total=sum(student_grades)\n",
    "    num=len(student_grades)\n",
    "    average=total/num\n",
    "    print(average)\n",
    "except ZeroDivisionError:\n",
    "    print(\"dictionary is empty\")\n",
    "else:\n",
    "    print(\"no error\")\n",
    "finally:\n",
    "    print(\"code execution done\")"
   ]
  },
  {
   "cell_type": "code",
   "execution_count": null,
   "id": "274f33db-c84a-4082-8ada-8d1eaf09bba4",
   "metadata": {},
   "outputs": [],
   "source": []
  }
 ],
 "metadata": {
  "kernelspec": {
   "display_name": "Python 3 (ipykernel)",
   "language": "python",
   "name": "python3"
  },
  "language_info": {
   "codemirror_mode": {
    "name": "ipython",
    "version": 3
   },
   "file_extension": ".py",
   "mimetype": "text/x-python",
   "name": "python",
   "nbconvert_exporter": "python",
   "pygments_lexer": "ipython3",
   "version": "3.12.3"
  }
 },
 "nbformat": 4,
 "nbformat_minor": 5
}
