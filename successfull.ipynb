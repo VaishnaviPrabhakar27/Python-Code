{
 "cells": [
  {
   "cell_type": "code",
   "execution_count": null,
   "id": "364186a0-6111-4755-95b5-3e14a0fd882a",
   "metadata": {},
   "outputs": [
    {
     "name": "stdin",
     "output_type": "stream",
     "text": [
      "Enter the number of systems:  4\n"
     ]
    },
    {
     "name": "stdout",
     "output_type": "stream",
     "text": [
      "Intrusion detected in packet with Packet ID 4567 and Network ID 1234.\n",
      "Intrusion detected in packet with Packet ID 8902 and Network ID 3456.\n",
      "Intrusion detected in System 1.\n"
     ]
    },
    {
     "name": "stdin",
     "output_type": "stream",
     "text": [
      "Enter the new data for Packet ID 4567 and Network ID 1234:  virus\n"
     ]
    },
    {
     "name": "stdout",
     "output_type": "stream",
     "text": [
      "Packet with Packet ID 4567 and Network ID 1234 updated in System 1.\n"
     ]
    },
    {
     "name": "stdin",
     "output_type": "stream",
     "text": [
      "Enter the new data for Packet ID 8902 and Network ID 3456:  hi\n"
     ]
    },
    {
     "name": "stdout",
     "output_type": "stream",
     "text": [
      "Packet with Packet ID 8902 and Network ID 3456 updated in System 1.\n",
      "Intrusion detected in packet with Packet ID 9087 and Network ID 5678.\n",
      "Intrusion detected in System 2.\n"
     ]
    },
    {
     "name": "stdin",
     "output_type": "stream",
     "text": [
      "Enter the new data for Packet ID 9087 and Network ID 5678:  hello\n"
     ]
    },
    {
     "name": "stdout",
     "output_type": "stream",
     "text": [
      "Packet with Packet ID 9087 and Network ID 5678 updated in System 2.\n",
      "Intrusion detected in packet with Packet ID 7894 and Network ID 3456.\n",
      "Intrusion detected in System 3.\n"
     ]
    },
    {
     "name": "stdin",
     "output_type": "stream",
     "text": [
      "Enter the new data for Packet ID 7894 and Network ID 3456:  nothing\n"
     ]
    },
    {
     "name": "stdout",
     "output_type": "stream",
     "text": [
      "Packet with Packet ID 7894 and Network ID 3456 updated in System 3.\n",
      "No intrusion detected in System 4.\n"
     ]
    },
    {
     "name": "stdin",
     "output_type": "stream",
     "text": [
      "Enter the action to perform (1: send packet, 2: delete packet, 3: delete system, 4: read system, 5: update system, 6: Detect intrusion):  1\n",
      "Enter the system number to perform actions (1, 2, 3, etc.):  1\n",
      "Enter Network ID:  3456\n",
      "Enter Packet ID:  1234\n",
      "Enter the data:  hi\n"
     ]
    },
    {
     "name": "stdout",
     "output_type": "stream",
     "text": [
      "Packet sent successfully.\n"
     ]
    },
    {
     "name": "stdin",
     "output_type": "stream",
     "text": [
      "Enter the action to perform (1: send packet, 2: delete packet, 3: delete system, 4: read system, 5: update system, 6: Detect intrusion):  2\n",
      "Enter the system number to perform actions (1, 2, 3, etc.):  2\n",
      "Enter the Packet ID to delete from System 2:  5678\n",
      "Enter the Network ID:  9087\n",
      "Enter the action to perform (1: send packet, 2: delete packet, 3: delete system, 4: read system, 5: update system, 6: Detect intrusion):  3\n",
      "Enter the system number to perform actions (1, 2, 3, etc.):  1\n"
     ]
    },
    {
     "name": "stdout",
     "output_type": "stream",
     "text": [
      "System 1 and its file have been deleted.\n"
     ]
    },
    {
     "name": "stdin",
     "output_type": "stream",
     "text": [
      "Enter the action to perform (1: send packet, 2: delete packet, 3: delete system, 4: read system, 5: update system, 6: Detect intrusion):  4\n",
      "Enter the system number to perform actions (1, 2, 3, etc.):  2\n"
     ]
    },
    {
     "name": "stdout",
     "output_type": "stream",
     "text": [
      "5678,9087,hello\n",
      "--------------------\n",
      "6789,6543,Cross-Site Scripting\n",
      "--------------------\n",
      "\n"
     ]
    },
    {
     "name": "stdin",
     "output_type": "stream",
     "text": [
      "Enter the action to perform (1: send packet, 2: delete packet, 3: delete system, 4: read system, 5: update system, 6: Detect intrusion):  5\n"
     ]
    }
   ],
   "source": [
    "     # INTRUSION DETECTION SYSTEM #\n",
    "\n",
    "import os\n",
    "\n",
    "class Packet:\n",
    "    def __init__(self, network_id, packet_id, data):\n",
    "        self.network_id = network_id\n",
    "        self.packet_id = packet_id\n",
    "        self.data = data\n",
    "\n",
    "    def __str__(self):\n",
    "        return f\"Network ID:{self.network_id}, Packet ID:{self.packet_id}, Network data:{self.data}\"\n",
    "\n",
    "\n",
    "def send_to_system(filename, packet):\n",
    "    with open(filename, \"a\") as file:\n",
    "        file.write(f\"{packet.network_id},{packet.packet_id},{packet.data}\\n\")\n",
    "        file.write(\"-\" * 20 + \"\\n\")\n",
    "\n",
    "\n",
    "def delete_packet_from_system(system_number):\n",
    "    filename = f\"System{system_number}.txt\"\n",
    "    try:\n",
    "        packet_id = int(input(f\"Enter the Packet ID to delete from System {system_number}: \"))\n",
    "        network_id = int(input(\"Enter the Network ID: \"))\n",
    "        with open(filename, \"r\") as file:\n",
    "            lines = file.readlines()\n",
    "        with open(filename, \"w\") as file:\n",
    "            for line in lines:\n",
    "                parts = line.strip().split(\",\")\n",
    "                if len(parts) >= 2 and int(parts[0]) == network_id and int(parts[1]) == packet_id:\n",
    "                    print(f\"Packet with Packet ID {packet_id} and Network ID {network_id} deleted from System {system_number}.\")\n",
    "                else:\n",
    "                    file.write(line)\n",
    "    except ValueError:\n",
    "        print(\"Invalid input. Packet ID and Network ID must be integers.\")\n",
    "\n",
    "\n",
    "def delete_system(system_number):\n",
    "    filename = f\"System{system_number}.txt\"\n",
    "    try:\n",
    "        os.remove(filename)\n",
    "        print(f\"System {system_number} and its file have been deleted.\")\n",
    "    except FileNotFoundError:\n",
    "        print(f\"System {system_number} file not found.\")\n",
    "\n",
    "\n",
    "\n",
    "\n",
    "def print_packets(filename):\n",
    "    print(f\"Packets in {filename}:\")\n",
    "    with open(filename, \"r\") as file:\n",
    "        for line in file:\n",
    "            print(line.strip())\n",
    "\n",
    "\n",
    "def read_system_file(system_number):\n",
    "    filename = f\"System{system_number}.txt\"\n",
    "    try:\n",
    "        with open(filename, \"r\") as file:\n",
    "            return file.read()\n",
    "    except FileNotFoundError:\n",
    "        return f\"System {system_number} file not found.\"\n",
    "\n",
    "# Check for intrusion and perform automatic update\n",
    "def detect_intrusion(filename):\n",
    "    suspicious_patterns = [\n",
    "    \"SQL Injection\",\n",
    "    \"Cross-Site Scripting (XSS)\",\n",
    "    \"Cross-Site Request Forgery (CSRF)\",\n",
    "    \"Brute Force Attack\",\n",
    "    \"Denial of Service (DoS)\",\n",
    "    \"Man-in-the-Middle (MitM) Attack\",\n",
    "    \"Phishing\",\n",
    "    \"Malware Injection\",\n",
    "    \"Session Hijacking\",\n",
    "    \"Clickjacking\",\n",
    "        \"virus\",\"malware\",\"hacked\",\"breach\"\n",
    "]\n",
    "    packets_with_intrusion = []\n",
    "    try:\n",
    "        with open(filename, \"r\") as file:\n",
    "            lines = file.readlines()\n",
    "            if not lines:\n",
    "                print(f\"No packets found in {filename}.\")\n",
    "                return packets_with_intrusion\n",
    "            for line in lines:\n",
    "                line = line.strip()\n",
    "                if not line or set(line) == set('-'):\n",
    "                    continue  # Skip empty lines or lines containing only dashes\n",
    "                parts = line.split(\",\")\n",
    "                if len(parts) < 2:\n",
    "                    continue  # Skip lines with incorrect formatting\n",
    "                network_id, packet_id, data = parts[0], parts[1], ','.join(parts[2:])\n",
    "                for pattern in suspicious_patterns:\n",
    "                    if pattern in data:\n",
    "                        network_id, packet_id = int(network_id), int(packet_id)\n",
    "                        print(f\"Intrusion detected in packet with Packet ID {packet_id} and Network ID {network_id}.\")\n",
    "                        packets_with_intrusion.append((network_id, packet_id))\n",
    "                        break\n",
    "    except FileNotFoundError:\n",
    "        print(f\"File {filename} not found.\")\n",
    "    return packets_with_intrusion\n",
    "\n",
    "\n",
    "\n",
    "def update_system(system_number,packet_no):\n",
    "    filename = f\"System{system_number}.txt\"\n",
    "    try:\n",
    "        packets_to_update = packet_no\n",
    "        if not packets_to_update:\n",
    "            print(\"No intrusion detected in system.\")\n",
    "            return\n",
    "        for network_id, packet_id in packets_to_update:\n",
    "            new_data = input(f\"Enter the new data for Packet ID {packet_id} and Network ID {network_id}: \")\n",
    "            with open(filename, \"r\") as file:\n",
    "                lines = file.readlines()\n",
    "            with open(filename, \"w\") as file:\n",
    "                for line in lines:\n",
    "                    parts = line.strip().split(\",\")\n",
    "                    if len(parts) >= 2 and int(parts[0]) == network_id and int(parts[1]) == packet_id:\n",
    "                        file.write(f\"{network_id},{packet_id},{new_data}\\n\")\n",
    "                    else:\n",
    "                        file.write(line)\n",
    "            print(f\"Packet with Packet ID {packet_id} and Network ID {network_id} updated in System {system_number}.\")\n",
    "    except ValueError:\n",
    "        print(\"Invalid input. Packet ID and Network ID must be integers.\")\n",
    "\n",
    "\n",
    "\n",
    "def handle_action(action_choice, system_number=None):\n",
    "    if action_choice == \"1\" or action_choice == \"send packet\":\n",
    "        system_number = int(input(\"Enter the system number to perform actions (1, 2, 3, etc.): \"))\n",
    "        send_to_system(f\"System{system_number}.txt\", create_packet())\n",
    "        print(\"Packet sent successfully.\")\n",
    "    elif action_choice == \"2\" or action_choice == \"delete packet\":\n",
    "        system_number = int(input(\"Enter the system number to perform actions (1, 2, 3, etc.): \"))\n",
    "        delete_packet_from_system(system_number)\n",
    "    elif action_choice == \"3\" or action_choice == \"delete system\":\n",
    "        system_number = int(input(\"Enter the system number to perform actions (1, 2, 3, etc.): \"))\n",
    "        delete_system(system_number)\n",
    "    elif action_choice == \"4\" or action_choice == \"read system\":\n",
    "        system_number = int(input(\"Enter the system number to perform actions (1, 2, 3, etc.): \"))\n",
    "        content = read_system_file(system_number)\n",
    "        print(content)\n",
    "    elif action_choice == \"5\" or action_choice == \"update system\":\n",
    "        system_number = int(input(\"Enter the system number to perform actions (1, 2, 3, etc.): \"))\n",
    "        update_system(system_number)\n",
    "    elif action_choice == \"6\" or action_choice == \"Detect intrusion\":\n",
    "        for i in range(1, n + 1):\n",
    "            intrusion_detected = False\n",
    "            packets_with_intrusion = detect_intrusion(f\"System{i}.txt\")\n",
    "            if not packets_with_intrusion:\n",
    "                print(f\"No intrusion detected in System {i}.\")\n",
    "            else:\n",
    "                print(f\"Intrusion detected in System {i}.\")\n",
    "                update_system(i,packets_with_intrusion)\n",
    "    else:\n",
    "        print(\"Invalid action.\")\n",
    "\n",
    "def create_packet():\n",
    "    network_id = int(input(\"Enter Network ID: \"))\n",
    "    packet_id = int(input(\"Enter Packet ID: \"))\n",
    "    data = input(\"Enter the data: \")\n",
    "    return Packet(network_id=network_id, packet_id=packet_id, data=data)\n",
    "\n",
    "if __name__ == \"__main__\":\n",
    "    n = int(input(\"Enter the number of systems: \"))\n",
    "    packets_entered = False\n",
    "    \n",
    "    # Check if data has been entered before\n",
    "    try:\n",
    "        with open(\"data_entered_flag.txt\", \"r\") as flag_file:\n",
    "            packets_entered = flag_file.read() == \"True\"\n",
    "    except FileNotFoundError:\n",
    "        pass\n",
    "\n",
    "    if not packets_entered:\n",
    "        for i in range(1, n + 1):\n",
    "            filename = f\"System{i}.txt\"\n",
    "            while True:\n",
    "                network_id = int(input(f\"Enter Network ID for System {i} (or enter -1 to finish): \"))\n",
    "                \n",
    "                if network_id == -1:\n",
    "                    break\n",
    "                    \n",
    "                packet_id = int(input(\"Enter Packet ID: \"))\n",
    "                data = input(\"Enter the data: \")\n",
    "                packet = Packet(network_id=network_id, packet_id=packet_id, data=data)\n",
    "                send_to_system(filename, packet)\n",
    "\n",
    "        # Set the flag indicating data has been entered\n",
    "        with open(\"data_entered_flag.txt\", \"w\") as flag_file:\n",
    "            flag_file.write(\"True\")\n",
    "\n",
    "    # Check for intrusion and perform automatic update\n",
    "    # Check for intrusion and perform automatic update\n",
    "    for i in range(1, n + 1):\n",
    "        intrusion_detected = False\n",
    "        packets_with_intrusion = detect_intrusion(f\"System{i}.txt\")\n",
    "        if not packets_with_intrusion:\n",
    "            print(f\"No intrusion detected in System {i}.\")\n",
    "        else:\n",
    "            print(f\"Intrusion detected in System {i}.\")\n",
    "            update_system(i,packets_with_intrusion)\n",
    "\n",
    "\n",
    "    # Perform actions based on user input\n",
    "    while True:\n",
    "        # Check for intrusion before displaying options`\n",
    "        \n",
    "        \n",
    "        # Display options\n",
    "        action_choice = input(\"Enter the action to perform (1: send packet, 2: delete packet, 3: delete system, 4: read system, 5: update system, 6: Detect intrusion): \").lower()\n",
    "        handle_action(action_choice)\n"
   ]
  },
  {
   "cell_type": "code",
   "execution_count": null,
   "id": "b7763b3d-ccfe-4cb2-a8a1-c319e789c3c2",
   "metadata": {},
   "outputs": [],
   "source": []
  },
  {
   "cell_type": "code",
   "execution_count": null,
   "id": "24f7529f-b817-411d-a8e5-ff59551b0024",
   "metadata": {},
   "outputs": [],
   "source": []
  }
 ],
 "metadata": {
  "kernelspec": {
   "display_name": "Python 3 (ipykernel)",
   "language": "python",
   "name": "python3"
  },
  "language_info": {
   "codemirror_mode": {
    "name": "ipython",
    "version": 3
   },
   "file_extension": ".py",
   "mimetype": "text/x-python",
   "name": "python",
   "nbconvert_exporter": "python",
   "pygments_lexer": "ipython3",
   "version": "3.12.3"
  }
 },
 "nbformat": 4,
 "nbformat_minor": 5
}
