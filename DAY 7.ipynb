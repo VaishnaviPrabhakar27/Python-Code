{
 "cells": [
  {
   "cell_type": "code",
   "execution_count": 14,
   "id": "84f55bad-4136-48ad-9ae6-541154c97db4",
   "metadata": {},
   "outputs": [
    {
     "name": "stdin",
     "output_type": "stream",
     "text": [
      "enter consecutive number: 3\n"
     ]
    },
    {
     "name": "stdout",
     "output_type": "stream",
     "text": [
      "23\n"
     ]
    }
   ],
   "source": [
    "L=[2,4,6,1,3,7,6,8,9,0,5,4,7,6,4,8,5,7,0]\n",
    "max=0\n",
    "con=int(input(\"enter consecutive number:\"))\n",
    "for x in range(0,len(L)-con):\n",
    "    sum=0\n",
    "    for y in range(0,con):\n",
    "        sum=sum+L[x+y]\n",
    "    if max<sum:\n",
    "        \n",
    "        max= sum\n",
    "\n",
    "print(max)\n"
   ]
  },
  {
   "cell_type": "code",
   "execution_count": 21,
   "id": "2c34e621-f7ef-478c-8782-e779fb7a68bc",
   "metadata": {},
   "outputs": [
    {
     "name": "stdin",
     "output_type": "stream",
     "text": [
      "enter consecutive number: 3\n"
     ]
    },
    {
     "name": "stdout",
     "output_type": "stream",
     "text": [
      "23\n"
     ]
    }
   ],
   "source": [
    "L=[2,4,6,1,3,7,6,8,9,0,5,4,7,6,4,8,5,7,0]\n",
    "max=0\n",
    "con=int(input(\"enter consecutive number:\"))\n",
    "for x in range(0,len(L)-con):   \n",
    "    sum=0\n",
    "    for y in range(0,con):\n",
    "        sum=sum+L[x+y]\n",
    "    if max<sum:\n",
    "        \n",
    "        max= sum\n",
    "\n",
    "print(max)\n"
   ]
  },
  {
   "cell_type": "code",
   "execution_count": 16,
   "id": "17deac72-2d44-4b36-b725-09610a225091",
   "metadata": {},
   "outputs": [
    {
     "name": "stdout",
     "output_type": "stream",
     "text": [
      "[2, 3, 5, 6, 7, 8, 9]\n"
     ]
    }
   ],
   "source": [
    "L=[3,5,2,6,7,8,9]\n",
    "L.sort()\n",
    "print(L)\n"
   ]
  },
  {
   "cell_type": "code",
   "execution_count": 3,
   "id": "52f4e9fe-a3d7-46ec-813f-35b63c5b5c3c",
   "metadata": {},
   "outputs": [
    {
     "name": "stdout",
     "output_type": "stream",
     "text": [
      "[9, 8, 7, 6, 5, 4, 3, 2, 1]\n"
     ]
    }
   ],
   "source": [
    "ar=[1,3,5,7,9,2,4,6,8]\n",
    "for i in range(0,len(ar)):\n",
    "    for j in range(0,(len(ar)-1)):\n",
    "        if ar[j]<ar[j+1]:\n",
    "            temp=ar[j]\n",
    "            ar[j]=ar[j+1]\n",
    "            ar[j+1]=temp\n",
    "\n",
    "print(ar)\n",
    "            "
   ]
  },
  {
   "cell_type": "code",
   "execution_count": 2,
   "id": "dafb0cdd-0fcf-4ff3-a74e-8f315e2bba43",
   "metadata": {},
   "outputs": [
    {
     "name": "stdout",
     "output_type": "stream",
     "text": [
      "[1, 2, 3, 4, 5, 6, 7, 8, 9]\n"
     ]
    }
   ],
   "source": [
    "ar=[1,3,5,7,9,2,4,6,8]\n",
    "for i in range(0,len(ar)):\n",
    "    for j in range(0,(len(ar)-1)):\n",
    "        if ar[j]>ar[j+1]:\n",
    "            temp=ar[j]\n",
    "            ar[j]=ar[j+1]\n",
    "            ar[j+1]=temp\n",
    "\n",
    "print(ar)\n",
    "            "
   ]
  },
  {
   "cell_type": "raw",
   "id": "84e6b6eb-233f-4f7e-9551-94c22a472da3",
   "metadata": {},
   "source": []
  },
  {
   "cell_type": "code",
   "execution_count": 1,
   "id": "0c07a674-5431-48ee-ad26-ddd22aaa3299",
   "metadata": {},
   "outputs": [
    {
     "name": "stdout",
     "output_type": "stream",
     "text": [
      "[1, 2, 3, 4, 5, 6, 7, 8, 9]\n"
     ]
    }
   ],
   "source": [
    "# BUBBLE SORT #\n",
    "ar=[3,1,5,7,9,2,4,6,8]\n",
    "for i in range(0,len(ar)):\n",
    "    for j in range(0,(len(ar)-1)):\n",
    "        if ar[j]>ar[j+1]:\n",
    "            temp=ar[j]\n",
    "            ar[j]=ar[j+1]\n",
    "            ar[j+1]=temp\n",
    "\n",
    "print(ar)\n",
    "            "
   ]
  },
  {
   "cell_type": "code",
   "execution_count": 8,
   "id": "e95813ee-bfee-4033-b74b-298762692e9f",
   "metadata": {},
   "outputs": [
    {
     "name": "stdout",
     "output_type": "stream",
     "text": [
      "[1, 4, 5, 6, 7, 8, 9]\n"
     ]
    }
   ],
   "source": [
    "# INSERTION SORT #\n",
    "arr=[5,4,8,1,9,6,7]\n",
    "for i in range(1,len(arr)):\n",
    "    temp=arr[i]\n",
    "    j=i-1\n",
    "    while j>=0 and temp<arr[j]:        #tem>arr[j]\n",
    "        arr[j+1]=arr[j]\n",
    "        j-=1\n",
    "    arr[j+1]=temp\n",
    "print(arr)"
   ]
  },
  {
   "cell_type": "code",
   "execution_count": 7,
   "id": "1d4f72b9-9f82-4ea0-89a8-1dc475cab489",
   "metadata": {},
   "outputs": [
    {
     "name": "stdout",
     "output_type": "stream",
     "text": [
      "[1, 4, 5, 6, 7, 8, 9]\n"
     ]
    }
   ],
   "source": [
    "# SELECTION SORT #\n",
    "arr=[5,4,8,1,9,6,7]                        #find the lowest element of the array\n",
    "for i in range(0,len(arr)):                #and the insert it in the starting of the array\n",
    "    min_idx=i                              #\n",
    "    for j in range(i+1,len(arr)):\n",
    "        if arr[min_idx]>arr[j]:\n",
    "            min_idx=j\n",
    "    temp=arr[i]\n",
    "    arr[i]=arr[min_idx]\n",
    "    arr[min_idx]=temp\n",
    "\n",
    "print(arr)"
   ]
  },
  {
   "cell_type": "code",
   "execution_count": 13,
   "id": "18a8bafb-a07c-4819-8c5c-9314be48df2c",
   "metadata": {},
   "outputs": [
    {
     "name": "stdout",
     "output_type": "stream",
     "text": [
      "2\n",
      "2\n"
     ]
    }
   ],
   "source": [
    "ar=[2,4,6,8,9,5,4]\n",
    "m=ar[0]\n",
    "for i in range(len(arr)):\n",
    "    if ar[i]<m:\n",
    "        m=ar[i]\n",
    "        a=i\n",
    "print(m)\n",
    "print(a)"
   ]
  },
  {
   "cell_type": "code",
   "execution_count": 23,
   "id": "098edcc9-a24f-45a5-9d27-e05e17147314",
   "metadata": {},
   "outputs": [
    {
     "name": "stdin",
     "output_type": "stream",
     "text": [
      " 47\n"
     ]
    },
    {
     "name": "stdout",
     "output_type": "stream",
     "text": [
      "item not in list\n",
      "low 0 high 21 mid 10\n",
      "low 11 high 21 mid 16\n",
      "low 11 high 15 mid 13\n",
      "low 14 high 15 mid 14\n",
      "element not found\n"
     ]
    }
   ],
   "source": [
    "# BINARY SEARCH #\n",
    "\n",
    "l=[2,4,6,8,5,3,44,5,77,6,7,88,99,77,45,34,23,24,46,68,97]\n",
    "l.sort()\n",
    "low=0\n",
    "high=len(l)\n",
    "mid=int(low+high/2)\n",
    "src=int(input())\n",
    "try:\n",
    "    print(\"index of element is \",l.index(src))\n",
    "except:\n",
    "    print(\"item not in list\")\n",
    "flag=0\n",
    "while low<high:\n",
    "    \n",
    "    mid=int((low+high)/2)                             #if low = high then,element not found and it just fails the condition\n",
    "    print(\"low\",low,\"high\",high,\"mid\",mid)\n",
    "    if src<l[mid]:\n",
    "        high=mid-1\n",
    "    elif src>l[mid]:\n",
    "        low=mid+1\n",
    "\n",
    "    else:\n",
    "        print(\"element found at\",mid)\n",
    "        flag=1\n",
    "        break;\n",
    "\n",
    "if flag==1:\n",
    "    print(\"element found at\",mid)\n",
    "else:\n",
    "    print(\"element not found\")\n"
   ]
  },
  {
   "cell_type": "code",
   "execution_count": 24,
   "id": "3e46439f-faf5-49d5-9e74-d0530728a208",
   "metadata": {},
   "outputs": [
    {
     "name": "stdin",
     "output_type": "stream",
     "text": [
      " 47\n"
     ]
    },
    {
     "name": "stdout",
     "output_type": "stream",
     "text": [
      "item not in list\n",
      "low 0 high 21 mid 10\n",
      "low 0 high 9 mid 4\n",
      "low 0 high 3 mid 1\n",
      "element not found\n"
     ]
    }
   ],
   "source": [
    "# BINARY SEARCH #\n",
    "\n",
    "l=[2,4,6,8,5,3,44,5,77,6,7,88,99,77,45,34,23,24,46,68,97]\n",
    "l.sort()\n",
    "low=0\n",
    "high=len(l)\n",
    "mid=int(low+high/2)\n",
    "src=int(input())\n",
    "try:\n",
    "    print(\"index of element is \",l.index(src))\n",
    "except:\n",
    "    print(\"item not in list\")\n",
    "flag=0\n",
    "while low<high:\n",
    "    \n",
    "    mid=int(low+(low+high)/2)                             #if low = high then,element not found and it just fails the condition\n",
    "    print(\"low\",low,\"high\",high,\"mid\",mid)\n",
    "    if src>l[mid]:\n",
    "        high=mid-1\n",
    "    elif src<l[mid]:\n",
    "        low=mid+1\n",
    "\n",
    "    else:\n",
    "        print(\"element found at\",mid)\n",
    "        flag=1\n",
    "        break;\n",
    "\n",
    "if flag==1:\n",
    "    print(\"element found at\",mid)\n",
    "else:\n",
    "    print(\"element not found\")\n"
   ]
  },
  {
   "cell_type": "code",
   "execution_count": 41,
   "id": "6b3026a7-1520-49c6-95f2-ea2f26818836",
   "metadata": {},
   "outputs": [
    {
     "name": "stdin",
     "output_type": "stream",
     "text": [
      "enter the string this is (a car\n"
     ]
    },
    {
     "name": "stdout",
     "output_type": "stream",
     "text": [
      "string is invalid\n",
      "string is invalid\n",
      "string is invalid\n",
      "string is invalid\n",
      "string is invalid\n",
      "string is invalid\n",
      "string is invalid\n",
      "string is invalid\n",
      "string is invalid\n",
      "string is invalid\n",
      "string is invalid\n",
      "string is invalid\n",
      "string is invalid\n",
      "string is invalid\n"
     ]
    }
   ],
   "source": [
    "#VALID STRING #\n",
    "\n",
    "a=input(\"enter the string\")\n",
    "for i in range(0,len(a)):\n",
    "    if a=='(' and ')':\n",
    "        \n",
    "        print(\"string is valid\")\n",
    "    elif  a=='{' and a=='}':\n",
    "        print(\"string is valid\")\n",
    "    else:\n",
    "        print(\"string is invalid\")\n",
    "\n"
   ]
  },
  {
   "cell_type": "code",
   "execution_count": 48,
   "id": "176c371b-33e8-469b-a306-2fdae9f52855",
   "metadata": {},
   "outputs": [
    {
     "name": "stdin",
     "output_type": "stream",
     "text": [
      " this is (a) car\n"
     ]
    },
    {
     "name": "stdout",
     "output_type": "stream",
     "text": [
      "valid string\n"
     ]
    }
   ],
   "source": [
    "# VALID PARANTHESIS #\n",
    "\n",
    "s=input()\n",
    "x=y=z=0\n",
    "for c in s:\n",
    "    match (c):\n",
    "         case '(':x+=1\n",
    "         case ')':x-=1\n",
    "         case '{':y+=1\n",
    "         case '}':y-=1\n",
    "         case '[':z+=1\n",
    "         case ']':z-=1\n",
    "         case _:continue\n",
    "\n",
    "if x+y+z ==0:\n",
    "    print(\"valid string\")\n",
    "\n",
    "else:\n",
    "    print(\"invalid string\")\n",
    "    "
   ]
  },
  {
   "cell_type": "code",
   "execution_count": 56,
   "id": "edb7d0c0-ce07-44a3-9a67-b2ebefe36c12",
   "metadata": {},
   "outputs": [
    {
     "name": "stdout",
     "output_type": "stream",
     "text": [
      "Item added to the stack\n",
      "Item added to the stack\n",
      "Item added to the stack\n",
      "Item removed from the stack\n",
      "[2, 45]\n",
      "Item added to the stack\n",
      "[2, 45, 1]\n"
     ]
    }
   ],
   "source": [
    "# STACK #\n",
    "\n",
    "def add(E):\n",
    "    s.append(E)\n",
    "    print(\"Item added to the stack\")\n",
    "\n",
    "def delete():\n",
    "    s.pop()\n",
    "    print(\"Item removed from the stack\")\n",
    "\n",
    "s=[]\n",
    "add(2)\n",
    "add(45)\n",
    "add(34)\n",
    "\n",
    "delete()\n",
    "print(s)\n",
    "\n",
    "add(1)\n",
    "print(s)\n",
    "\n"
   ]
  },
  {
   "cell_type": "code",
   "execution_count": 29,
   "id": "1880f3db-be4c-4ed0-8e35-a977e0556cd3",
   "metadata": {},
   "outputs": [
    {
     "name": "stdout",
     "output_type": "stream",
     "text": [
      "itme added to a string\n",
      "itme added to a string\n",
      "itme added to a string\n",
      "['welcome', 'to', 'bitm']\n",
      "bitm to welcome \n"
     ]
    }
   ],
   "source": [
    "# REVERSE THE STRING #\n",
    "\n",
    "def add(c):\n",
    "    s.append(c)\n",
    "    print(\"itme added to a string\")\n",
    "\n",
    "def delete():\n",
    "    s.pop()\n",
    "\n",
    "s=[]\n",
    "add('welcome')\n",
    "add('to')\n",
    "add('bitm')\n",
    "print(s)\n",
    "a=s.pop()\n",
    "b=s.pop()\n",
    "c=s.pop()\n",
    "print(a+\" \"+b+\" \"+c+\" \")"
   ]
  },
  {
   "cell_type": "code",
   "execution_count": 9,
   "id": "bab6fc18-bda8-462e-8602-54f2ae18c9a5",
   "metadata": {},
   "outputs": [
    {
     "name": "stdin",
     "output_type": "stream",
     "text": [
      " this is aa car\n"
     ]
    },
    {
     "name": "stdout",
     "output_type": "stream",
     "text": [
      "rac aa si siht"
     ]
    }
   ],
   "source": [
    "a=input()\n",
    "s=[]\n",
    "for e in a:\n",
    "    s.append(e)\n",
    "\n",
    "while len(s)>0:\n",
    "    print(s.pop(),end=\"\")"
   ]
  },
  {
   "cell_type": "code",
   "execution_count": 26,
   "id": "17216c28-001d-4845-b28f-9ad3050d07ff",
   "metadata": {},
   "outputs": [
    {
     "name": "stdin",
     "output_type": "stream",
     "text": [
      " this is a car\n"
     ]
    },
    {
     "name": "stdout",
     "output_type": "stream",
     "text": [
      "car a is this "
     ]
    }
   ],
   "source": [
    "a=input()\n",
    "s=[]\n",
    "for e in a.split():\n",
    "    s.append(e)\n",
    "while len(s)>0:\n",
    "    print(s.pop(),end=' ')\n",
    "    "
   ]
  },
  {
   "cell_type": "code",
   "execution_count": null,
   "id": "42ed3ac3-2157-4bf8-a01a-5df963d5b508",
   "metadata": {},
   "outputs": [],
   "source": []
  }
 ],
 "metadata": {
  "kernelspec": {
   "display_name": "Python 3 (ipykernel)",
   "language": "python",
   "name": "python3"
  },
  "language_info": {
   "codemirror_mode": {
    "name": "ipython",
    "version": 3
   },
   "file_extension": ".py",
   "mimetype": "text/x-python",
   "name": "python",
   "nbconvert_exporter": "python",
   "pygments_lexer": "ipython3",
   "version": "3.12.3"
  }
 },
 "nbformat": 4,
 "nbformat_minor": 5
}
