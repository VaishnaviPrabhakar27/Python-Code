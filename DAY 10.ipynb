{
 "cells": [
  {
   "cell_type": "code",
   "execution_count": 25,
   "id": "5956f04f-84b7-4e7a-9b55-9297b70860c3",
   "metadata": {},
   "outputs": [
    {
     "name": "stdin",
     "output_type": "stream",
     "text": [
      " 5\n"
     ]
    },
    {
     "name": "stdout",
     "output_type": "stream",
     "text": [
      "120\n"
     ]
    }
   ],
   "source": [
    " # FACTORIAL #\n",
    "fact=1\n",
    "n=int(input())\n",
    "for i in range(n,1,-1):\n",
    "    fact*=i \n",
    "print(fact)\n",
    "    \n",
    "    \n"
   ]
  },
  {
   "cell_type": "code",
   "execution_count": 24,
   "id": "89ff8940-88cc-4b9f-8ac7-23a0c674d108",
   "metadata": {},
   "outputs": [
    {
     "name": "stdin",
     "output_type": "stream",
     "text": [
      " 5\n"
     ]
    },
    {
     "name": "stdout",
     "output_type": "stream",
     "text": [
      "120\n"
     ]
    }
   ],
   "source": [
    "# FACTORIAL AS RECURSSION #\n",
    "\n",
    "def fun(i):\n",
    "    if i==1:\n",
    "        return 1\n",
    "    else: \n",
    "        return i*fun(i-1)\n",
    "\n",
    "if __name__==\"__main__\":\n",
    "    n=int(input())\n",
    "    print(fun(n))\n"
   ]
  },
  {
   "cell_type": "code",
   "execution_count": 29,
   "id": "3659fa37-f443-4a7a-91be-37b3807e1c76",
   "metadata": {},
   "outputs": [
    {
     "name": "stdin",
     "output_type": "stream",
     "text": [
      " 3\n"
     ]
    },
    {
     "name": "stdout",
     "output_type": "stream",
     "text": [
      "5\n"
     ]
    }
   ],
   "source": [
    " # FIBAN0CCI #\n",
    "\n",
    "def fab(i):\n",
    "    if i==0:\n",
    "        return 0\n",
    "    elif i==1:\n",
    "        return 1\n",
    "    else:\n",
    "        return fab(i-2)+fab(i-1)\n",
    "\n",
    "if __name__==\"__main__\":\n",
    "    i=int(input())\n",
    "    print(fab(n))\n",
    "    \n",
    "    "
   ]
  },
  {
   "cell_type": "code",
   "execution_count": 31,
   "id": "b0be1a3e-c48e-48de-a0ff-2b0b57afaed0",
   "metadata": {},
   "outputs": [
    {
     "name": "stdout",
     "output_type": "stream",
     "text": [
      "[1, 2, 3, 4, 5, 6, 7, 8, 9]\n"
     ]
    }
   ],
   "source": [
    "# QUICKSORT #\n",
    "\n",
    "def findpi(ar,low,high):\n",
    "    pi=ar[high]\n",
    "    j=low-1\n",
    "    for i in range(low,high):\n",
    "        if pi>ar[i]:\n",
    "            j+=1\n",
    "            ar[i],ar[j]=ar[j],ar[i]\n",
    "    ar[high],ar[j+1]=ar[j+1],ar[high]\n",
    "    return j+1\n",
    "\n",
    "def quicksort(ar,low,high):\n",
    "    if low<high:\n",
    "        pi = findpi(ar,low,high)\n",
    "        quicksort(ar,low,pi-1)\n",
    "        quicksort(ar,pi+1,high)\n",
    "\n",
    "#main\n",
    "\n",
    "ar=[3,5,7,2,4,8,1,9,6]\n",
    "quicksort(ar,0,len(ar)-1)\n",
    "print(ar)"
   ]
  },
  {
   "cell_type": "code",
   "execution_count": 4,
   "id": "56c1d497-be4d-4962-ac13-e7314dfac996",
   "metadata": {},
   "outputs": [
    {
     "name": "stdout",
     "output_type": "stream",
     "text": [
      "node 1 <__main__.node object at 0x00000286423E7E90> 1\n",
      "node 2 <__main__.node object at 0x00000286423CEE10> 2\n",
      "node 3 <__main__.node object at 0x00000286423CFCB0> 3\n",
      "node 4 <__main__.node object at 0x000002864251DEB0> 4\n"
     ]
    }
   ],
   "source": [
    " # LINKED LIST #\n",
    "\n",
    "class node:\n",
    "    def __init__(self,value):\n",
    "        self.data=value\n",
    "        self.next=None\n",
    "\n",
    "head=node(1)\n",
    "head.next=node(2)\n",
    "head.next.next=node(3)\n",
    "head.next.next.next=node(4)\n",
    "\n",
    "print(\"node 1\",head,head.data)\n",
    "print(\"node 2\",head.next,head.next.data)\n",
    "print(\"node 3\",head.next.next,head.next.next.data)\n",
    "print(\"node 4\",head.next.next.next,head.next.next.next.data)"
   ]
  },
  {
   "cell_type": "code",
   "execution_count": 10,
   "id": "1e004c28-41e9-4654-9cc0-78ff584d0c8e",
   "metadata": {},
   "outputs": [
    {
     "name": "stdout",
     "output_type": "stream",
     "text": [
      "a= <__main__.node object at 0x00000286423E6A80>\n",
      "b= <__main__.node object at 0x00000286410A49B0>\n",
      "c= <__main__.node object at 0x0000028642540830>\n",
      "d= <__main__.node object at 0x0000028641146C60>\n",
      "<__main__.node object at 0x00000286423E6A80> -->\n",
      "<__main__.node object at 0x00000286410A49B0> -->\n",
      "<__main__.node object at 0x0000028642540830> -->\n",
      "<__main__.node object at 0x0000028641146C60> -->\n"
     ]
    }
   ],
   "source": [
    "class node:\n",
    "    def __init__(self,data):\n",
    "        self.data=data\n",
    "        self.next=None\n",
    "\n",
    "a=node(\"apple\")\n",
    "b=node(\"banana\")\n",
    "c=node(\"cat\")\n",
    "d=node(\"dog\")\n",
    "\n",
    "head=a\n",
    "head.next=b\n",
    "head.next.next=c\n",
    "head.next.next.next=d\n",
    "\n",
    "print(\"a=\",a)\n",
    "print(\"b=\",b)\n",
    "print(\"c=\",c)\n",
    "print(\"d=\",d)\n",
    "\n",
    "print(head,\"-->\")\n",
    "print(head.next,\"-->\")\n",
    "print(head.next.next,\"-->\")\n",
    "print(head.next.next.next,\"-->\")\n",
    "      "
   ]
  },
  {
   "cell_type": "code",
   "execution_count": null,
   "id": "6f61a8a5-fd4c-4546-8a1f-555d9343f104",
   "metadata": {},
   "outputs": [],
   "source": []
  }
 ],
 "metadata": {
  "kernelspec": {
   "display_name": "Python 3 (ipykernel)",
   "language": "python",
   "name": "python3"
  },
  "language_info": {
   "codemirror_mode": {
    "name": "ipython",
    "version": 3
   },
   "file_extension": ".py",
   "mimetype": "text/x-python",
   "name": "python",
   "nbconvert_exporter": "python",
   "pygments_lexer": "ipython3",
   "version": "3.12.3"
  }
 },
 "nbformat": 4,
 "nbformat_minor": 5
}
