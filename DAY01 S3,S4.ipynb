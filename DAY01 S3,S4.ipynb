{
 "cells": [
  {
   "cell_type": "code",
   "execution_count": 1,
   "id": "8e917173-afee-4c46-aa57-34c59beba8d3",
   "metadata": {},
   "outputs": [
    {
     "name": "stdout",
     "output_type": "stream",
     "text": [
      "7\n",
      "<class 'int'>\n"
     ]
    }
   ],
   "source": [
    "a=7\n",
    "print(a)\n",
    "print(type(a))"
   ]
  },
  {
   "cell_type": "code",
   "execution_count": 2,
   "id": "7056247d-9fc8-477b-89ad-c1b7504a86b2",
   "metadata": {},
   "outputs": [
    {
     "name": "stdout",
     "output_type": "stream",
     "text": [
      "6.7\n",
      "<class 'float'>\n"
     ]
    }
   ],
   "source": [
    "a=6.7\n",
    "print(a)\n",
    "print(type(a))\n"
   ]
  },
  {
   "cell_type": "code",
   "execution_count": 3,
   "id": "d33519ca-c7b6-445b-99f2-9a48c0c6858b",
   "metadata": {},
   "outputs": [
    {
     "name": "stdout",
     "output_type": "stream",
     "text": [
      "[1, 2, 3]\n",
      "<class 'list'>\n"
     ]
    }
   ],
   "source": [
    "b=[1,2,3]\n",
    "print(b)\n",
    "print(type(b))\n"
   ]
  },
  {
   "cell_type": "code",
   "execution_count": 13,
   "id": "7b481e22-f5e0-48a4-ad10-521f5ffb607f",
   "metadata": {},
   "outputs": [
    {
     "name": "stdout",
     "output_type": "stream",
     "text": [
      "(1, 3)\n",
      "<class 'tuple'>\n",
      "{'b', 'a'}\n",
      "<class 'set'>\n"
     ]
    }
   ],
   "source": [
    "a=(1,3)\n",
    "print(a)\n",
    "print(type(a))\n",
    "\n",
    "a={\"a\",\"b\"}\n",
    "print(a)\n",
    "print(type(a))"
   ]
  },
  {
   "cell_type": "code",
   "execution_count": 12,
   "id": "52033d39-eb9f-45fe-ad3c-c188db8f9803",
   "metadata": {},
   "outputs": [
    {
     "name": "stdout",
     "output_type": "stream",
     "text": [
      "{1: 'apple', 2: 'banana'}\n",
      "<class 'dict'>\n"
     ]
    }
   ],
   "source": [
    "c={1:\"apple\",2:\"banana\"}\n",
    "print(c)\n",
    "print(type(c))\n"
   ]
  },
  {
   "cell_type": "code",
   "execution_count": 7,
   "id": "dc08c60f-6bd6-407f-a151-5db142d86ca7",
   "metadata": {},
   "outputs": [
    {
     "name": "stdout",
     "output_type": "stream",
     "text": [
      "{1: 'Apple', 2: 'Banana'}\n",
      "<class 'dict'>\n"
     ]
    }
   ],
   "source": [
    "c={1:\"Apple\",2:\"Banana\"}\n",
    "print(c)\n",
    "print(type(c))\n"
   ]
  },
  {
   "cell_type": "code",
   "execution_count": 8,
   "id": "02f6b1c8-e648-49f6-aa5f-7b347545be45",
   "metadata": {},
   "outputs": [
    {
     "name": "stdout",
     "output_type": "stream",
     "text": [
      "10 3 4\n",
      "17\n"
     ]
    }
   ],
   "source": [
    "a=10\n",
    "b=3\n",
    "c=4\n",
    "print(a,b,c)\n",
    "print(a+b+c)"
   ]
  },
  {
   "cell_type": "code",
   "execution_count": 11,
   "id": "f466df4b-891a-46f5-b06a-c957c3d79980",
   "metadata": {},
   "outputs": [
    {
     "name": "stdout",
     "output_type": "stream",
     "text": [
      "abc cde\n",
      "abcfgh\n"
     ]
    }
   ],
   "source": [
    "a=\"abc\"\n",
    "b=\"cde\"\n",
    "c=\"fgh\"\n",
    "print(a,b)\n",
    "print(a+c)\n"
   ]
  },
  {
   "cell_type": "code",
   "execution_count": 15,
   "id": "cb0789f6-df35-4c23-a377-5b9fa2060fbb",
   "metadata": {},
   "outputs": [
    {
     "name": "stdin",
     "output_type": "stream",
     "text": [
      " 4\n",
      " 5\n"
     ]
    },
    {
     "name": "stdout",
     "output_type": "stream",
     "text": [
      "9\n",
      "<class 'int'>\n",
      "<class 'int'>\n"
     ]
    }
   ],
   "source": [
    "a=int(input())\n",
    "b=int(input())\n",
    "c=a+b\n",
    "print(c)\n",
    "print(type(a))\n",
    "print(type(b))"
   ]
  },
  {
   "cell_type": "code",
   "execution_count": 20,
   "id": "2d9ed8c5-018a-496d-baa0-df761c21fac4",
   "metadata": {},
   "outputs": [
    {
     "name": "stdout",
     "output_type": "stream",
     "text": [
      "18\n",
      "-4\n",
      "168\n",
      "1\n",
      "2.3333333333333335\n",
      "7 3 8\n"
     ]
    }
   ],
   "source": [
    "a=7\n",
    "b=3\n",
    "c=8\n",
    "print(a+b+c)\n",
    "print(a-b-c)\n",
    "print(a*b*c)\n",
    "print(a%b)\n",
    "print(a/b)\n",
    "print(a,b,c)"
   ]
  },
  {
   "cell_type": "code",
   "execution_count": 24,
   "id": "f142c6ee-1b28-4f44-aa07-6c96d21cadef",
   "metadata": {},
   "outputs": [
    {
     "name": "stdin",
     "output_type": "stream",
     "text": [
      "enter three number: 1 ram 4.5\n"
     ]
    },
    {
     "name": "stdout",
     "output_type": "stream",
     "text": [
      "1ram4.5\n"
     ]
    }
   ],
   "source": [
    "a,b,c=input(\"enter three number:\").split()\n",
    "d=a+b+c\n",
    "print(d)\n"
   ]
  },
  {
   "cell_type": "code",
   "execution_count": null,
   "id": "41058624-822c-4bdf-8052-0593c35631e9",
   "metadata": {},
   "outputs": [],
   "source": []
  }
 ],
 "metadata": {
  "kernelspec": {
   "display_name": "Python 3 (ipykernel)",
   "language": "python",
   "name": "python3"
  },
  "language_info": {
   "codemirror_mode": {
    "name": "ipython",
    "version": 3
   },
   "file_extension": ".py",
   "mimetype": "text/x-python",
   "name": "python",
   "nbconvert_exporter": "python",
   "pygments_lexer": "ipython3",
   "version": "3.12.3"
  }
 },
 "nbformat": 4,
 "nbformat_minor": 5
}
