{
 "cells": [
  {
   "cell_type": "code",
   "execution_count": 11,
   "id": "1b127057-c13e-4857-be69-6fa3a542b59a",
   "metadata": {},
   "outputs": [
    {
     "name": "stdout",
     "output_type": "stream",
     "text": [
      "employee details are: 180 venku 500000\n",
      "staf detailes are: employee bitm 111 vaishu 450000\n",
      "developer detailes are: 5 itec 5 112 neha 300000\n",
      "manager detailes are: bitm yashu 113 ashu 460000\n"
     ]
    }
   ],
   "source": [
    "class employee:\n",
    "    def __init__(self,i,n,s):\n",
    "        self.eid=i\n",
    "        self.ename=n\n",
    "        self.esalary=s\n",
    "\n",
    "class staff(employee):\n",
    "    def __init__(self,t,a,i,n,s):\n",
    "        self.work_type=t\n",
    "        self.work_area=a\n",
    "        \n",
    "        super().__init__(i,n,s)\n",
    "\n",
    "class developer(employee):\n",
    "    def __init__(self,m,T,e,i,n,s):\n",
    "        self.module=m\n",
    "        self.tech=T\n",
    "        self.experience=e\n",
    "        super().__init__(i,n,s)\n",
    "\n",
    "class manager(employee):\n",
    "    def __init__(self,p,c,i,n,s):\n",
    "        self.project=p\n",
    "        self.client_name=c\n",
    "        super().__init__(i,n,s)\n",
    "\n",
    "emp1=employee(180,\"venku\",500000)\n",
    "sta1=staff(\"employee\",\"bitm\",111,\"vaishu\",450000)\n",
    "dev1=developer(5,\"itec\",5,112,\"neha\",300000)\n",
    "man1=manager(\"bitm\",\"yashu\",113,\"ashu\",460000)\n",
    "\n",
    "print(\"employee details are:\",emp1.eid,emp1.ename,emp1.esalary)\n",
    "print(\"staf detailes are:\",sta1.work_type,sta1.work_area,sta1.eid,sta1.ename,sta1.esalary)\n",
    "print(\"developer detailes are:\",dev1.module,dev1.tech,dev1.experience,dev1.eid,dev1.ename,dev1.esalary)\n",
    "print(\"manager detailes are:\",man1.project,man1.client_name,man1.eid,man1.ename,man1.esalary)"
   ]
  },
  {
   "cell_type": "code",
   "execution_count": 35,
   "id": "76be59da-e6b0-4169-88c8-2b973c3a6927",
   "metadata": {},
   "outputs": [
    {
     "name": "stdin",
     "output_type": "stream",
     "text": [
      " 5\n"
     ]
    },
    {
     "name": "stdout",
     "output_type": "stream",
     "text": [
      "* \n",
      "* * \n",
      "* * * \n",
      "* * * * \n",
      "* * * * * \n"
     ]
    }
   ],
   "source": [
    "n=int(input())\n",
    "for y in range(0,n):\n",
    "    for x in range(0,y+1):\n",
    "        print(\"*\",end=\" \")\n",
    "    print()"
   ]
  },
  {
   "cell_type": "code",
   "execution_count": 37,
   "id": "f1dae99c-ff23-4246-a168-8b5fc2a0c0a2",
   "metadata": {},
   "outputs": [
    {
     "name": "stdin",
     "output_type": "stream",
     "text": [
      " 6\n"
     ]
    },
    {
     "name": "stdout",
     "output_type": "stream",
     "text": [
      "* * * * * * \n",
      "* * * * * * \n",
      "* * * * * * \n",
      "* * * * * * \n",
      "* * * * * * \n",
      "* * * * * * \n"
     ]
    }
   ],
   "source": [
    "\n",
    "n=int(input())\n",
    "for y in range(0,n):\n",
    "    for x in range (0,n):\n",
    "        print(\"*\",end=\" \")\n",
    "    print()"
   ]
  },
  {
   "cell_type": "code",
   "execution_count": 50,
   "id": "cc56d3c1-d21b-4511-8674-f3252710d2ba",
   "metadata": {},
   "outputs": [
    {
     "name": "stdin",
     "output_type": "stream",
     "text": [
      " 6\n"
     ]
    },
    {
     "name": "stdout",
     "output_type": "stream",
     "text": [
      "* * * * * * \n",
      "* * * * * \n",
      "* * * * \n",
      "* * * \n",
      "* * \n",
      "* \n",
      "\n"
     ]
    }
   ],
   "source": [
    "n=int(input())\n",
    "for y in range(-1,n):\n",
    "    for x in range(y,n-1):\n",
    "        print(\"*\",end=\" \")\n",
    "    print()"
   ]
  },
  {
   "cell_type": "code",
   "execution_count": 66,
   "id": "b49c1e8c-8d5a-4b90-b930-16b51a9861a2",
   "metadata": {},
   "outputs": [
    {
     "name": "stdin",
     "output_type": "stream",
     "text": [
      " 6\n"
     ]
    },
    {
     "name": "stdout",
     "output_type": "stream",
     "text": [
      "* * * * * * \n",
      "*         * \n",
      "*         * \n",
      "*         * \n",
      "*         * \n",
      "* * * * * * \n"
     ]
    }
   ],
   "source": [
    "n=int(input())\n",
    "for i in range(0,n):\n",
    "    for j in range(0,n):\n",
    "        if i==(n-1) or j==(n-1) or i==0 or j==0:\n",
    "          print(\"*\",end=\" \")\n",
    "        else:\n",
    "          print(\" \",end=\" \")\n",
    "    print()\n",
    "\n"
   ]
  },
  {
   "cell_type": "code",
   "execution_count": null,
   "id": "df5c07a4-37d6-429a-bcda-6a7c0cd8f97f",
   "metadata": {},
   "outputs": [],
   "source": []
  }
 ],
 "metadata": {
  "kernelspec": {
   "display_name": "Python 3 (ipykernel)",
   "language": "python",
   "name": "python3"
  },
  "language_info": {
   "codemirror_mode": {
    "name": "ipython",
    "version": 3
   },
   "file_extension": ".py",
   "mimetype": "text/x-python",
   "name": "python",
   "nbconvert_exporter": "python",
   "pygments_lexer": "ipython3",
   "version": "3.12.3"
  }
 },
 "nbformat": 4,
 "nbformat_minor": 5
}
