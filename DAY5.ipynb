{
 "cells": [
  {
   "cell_type": "code",
   "execution_count": 3,
   "id": "dcf2e76b-c61e-4680-8da9-e2b4c04302b0",
   "metadata": {},
   "outputs": [
    {
     "name": "stdout",
     "output_type": "stream",
     "text": [
      "0\n"
     ]
    }
   ],
   "source": [
    "#OPPS CONCEPT  \n",
    "class laptop:\n",
    "    def config(self):\n",
    "        print(\"this laptop have 15\")\n",
    "    def __init__(self,value):\n",
    "        self.b=value\n",
    "\n",
    "acer=laptop(0)\n",
    "print(acer.b)"
   ]
  },
  {
   "cell_type": "code",
   "execution_count": 2,
   "id": "04931668-e191-4099-9406-61dbd3e34bf4",
   "metadata": {},
   "outputs": [],
   "source": [
    "class Laptop:\n",
    "    def __init__(self,p,r,s):\n",
    "        self.processor=p\n",
    "        self.Ram=r\n",
    "        self.Storage=s\n",
    "\n",
    "    def config(self):\n",
    "        print(\"processor\",self.processor)\n",
    "        print(\"Ram\",self.Ram)\n",
    "        print(\"storage\",self.Storage)\n",
    "\n",
    "if __name__==\"__main__\":\n",
    "    hp=Laptop(\"i5\",8,512)\n",
    "    hp.config"
   ]
  },
  {
   "cell_type": "code",
   "execution_count": null,
   "id": "d576d790-a39b-4541-8959-6067dacc2fc9",
   "metadata": {},
   "outputs": [],
   "source": [
    "class student:\n",
    "    def __init__(self,name,marks[]):\n",
    "        self.name=name\n",
    "        self.marks=marks\n",
    "\n",
    "    def marks(self):\n",
    "        print(\"marks of the student{self.name} and {self.marks}\")\n",
    "\n",
    "    def calculate_avg(self):\n",
    "        return sum(self.marks)/len(self.marks)\n",
    "\n",
    "if __name__==\"__main__\":\n",
    "    a=student(\"Neha\",[85,68,90,67,79])\n",
    "\n",
    "    print         "
   ]
  },
  {
   "cell_type": "code",
   "execution_count": 5,
   "id": "2aead4ac-8a57-4b1e-a8ae-5ba254d244d1",
   "metadata": {},
   "outputs": [
    {
     "name": "stdout",
     "output_type": "stream",
     "text": [
      "this is function 1\n",
      "this is function 1\n"
     ]
    }
   ],
   "source": [
    "class a:\n",
    "    def fun1(self):\n",
    "        print(\"this is function 1\")\n",
    "    def fun2(self):\n",
    "        print(\"this is function 2\")\n",
    "class b(a):\n",
    "    def fun3(self):\n",
    "        print(\"this is function 3\")\n",
    "    def fun4(self):\n",
    "        print(\"this is function 4\")\n",
    "class c(b):\n",
    "    def fun5(self):\n",
    "        print(\"this is function 5\")\n",
    "    def fun6(self):\n",
    "        print(\"this is function 6\")\n",
    "\n",
    "if __name__==\"__main__\":\n",
    "    ob1=a()\n",
    "    ob2=b()\n",
    "    ob3=c()\n",
    "   \n",
    "    ob1.fun1()\n",
    "    ob2.fun1()"
   ]
  },
  {
   "cell_type": "code",
   "execution_count": 10,
   "id": "6eddcc93-a92c-4fba-8fa5-c75c92651e76",
   "metadata": {},
   "outputs": [
    {
     "name": "stdout",
     "output_type": "stream",
     "text": [
      "constructor of class a\n",
      "constructor of class b\n",
      "constructor of class c\n",
      "constructor of class d\n"
     ]
    }
   ],
   "source": [
    "class a: \n",
    "    def __init__(self):\n",
    "        print(\"constructor of class a\")\n",
    "class b(a):\n",
    "    def __init__(self):\n",
    "        print(\"constructor of class b\")\n",
    "class c(a):\n",
    "    def __init__(self):\n",
    "        print(\"constructor of class c\")\n",
    "class d():\n",
    "    def __init__(self):\n",
    "        print(\"constructor of class d\")\n",
    "\n",
    "if __name__==\"__main__\":\n",
    "    ob1=a()\n",
    "    ob2=b()\n",
    "    ob3=c()\n",
    "    ob4=d()\n"
   ]
  },
  {
   "cell_type": "code",
   "execution_count": 11,
   "id": "e500174c-ce13-43d8-800e-397f329e065e",
   "metadata": {},
   "outputs": [
    {
     "name": "stdout",
     "output_type": "stream",
     "text": [
      "constructor of class a\n",
      "constructor of class b\n",
      "constructor of class c\n"
     ]
    }
   ],
   "source": [
    "class a: \n",
    "    def __init__(self):\n",
    "        print(\"constructor of class a\")\n",
    "class b(a):\n",
    "    def __init__(self):\n",
    "        print(\"constructor of class b\")\n",
    "class c(a):\n",
    "    def __init__(self):\n",
    "        print(\"constructor of class c\")\n",
    "class d():\n",
    "    pass\n",
    "\n",
    "if __name__==\"__main__\":\n",
    "    ob1=a()\n",
    "    ob2=b()\n",
    "    ob3=c()\n",
    "    ob4=d()\n"
   ]
  },
  {
   "cell_type": "code",
   "execution_count": 14,
   "id": "fee63759-2fb4-4665-8665-c8ebe5709fa0",
   "metadata": {},
   "outputs": [
    {
     "name": "stdout",
     "output_type": "stream",
     "text": [
      "this is function 1\n",
      "this is function 2\n",
      "this is function 3\n"
     ]
    }
   ],
   "source": [
    "class a:\n",
    "    def fun1(self):\n",
    "        print(\"this is function 1\")\n",
    "    def fun2(self):\n",
    "        print(\"this is function 2\")\n",
    "class b(a):\n",
    "    def fun3(self):\n",
    "        print(\"this is function 3\")\n",
    "    def fun4(self):\n",
    "        print(\"this is function 4\")\n",
    "class c(b):\n",
    "    pass\n",
    "\n",
    "if __name__==\"__main__\":\n",
    "    ob1=a()\n",
    "    ob2=b()\n",
    "    ob3=c()\n",
    "   \n",
    "    ob1.fun1()\n",
    "    ob2.fun2()\n",
    "    ob3.fun3()\n",
    "    "
   ]
  },
  {
   "cell_type": "code",
   "execution_count": 15,
   "id": "0aa6c884-d0d7-4386-a3dc-de57b5f633cc",
   "metadata": {},
   "outputs": [
    {
     "name": "stdout",
     "output_type": "stream",
     "text": [
      "constructor of the class\n",
      "fun of class c with 1 2\n"
     ]
    }
   ],
   "source": [
    "class c:\n",
    "    def __init__(self):\n",
    "        print(\"constructor of the class\")\n",
    "    def abc(self,a,b=5):\n",
    "        print(\"fun of class c with\",a,b)\n",
    "\n",
    "ob=c()\n",
    "ob.abc(1,2)"
   ]
  },
  {
   "cell_type": "code",
   "execution_count": 27,
   "id": "7df90da8-be77-45c0-88e5-e4eab2b9cfb0",
   "metadata": {},
   "outputs": [
    {
     "name": "stdout",
     "output_type": "stream",
     "text": [
      "constructor of the class\n",
      "20 10\n"
     ]
    }
   ],
   "source": [
    "class c:\n",
    "    def __init__(self,a=20,b=10):\n",
    "        print(\"constructor of the class\")\n",
    "        self.x=a\n",
    "        self.y=b\n",
    "        print(self.x,self.y)\n",
    "\n",
    "ob=c()\n"
   ]
  },
  {
   "cell_type": "code",
   "execution_count": 24,
   "id": "3eedfebe-a692-436d-99c2-435ed097c9c5",
   "metadata": {},
   "outputs": [
    {
     "name": "stdout",
     "output_type": "stream",
     "text": [
      "constructor of class c\n",
      "print the show of c\n"
     ]
    }
   ],
   "source": [
    "class a: \n",
    "    def __init__(self):\n",
    "        print(\"constructor of class a\")\n",
    "    def show(self):\n",
    "        print(\"printing the show of c\")\n",
    "        \n",
    "class b(a):\n",
    "    def __init__(self):\n",
    "        print(\"constructor of class b\")\n",
    "class c(a):\n",
    "    def __init__(self):\n",
    "        print(\"constructor of class c\")\n",
    "    def show(self):\n",
    "        print(\"print the show of c\")\n",
    "        #super().show()\n",
    "class d():\n",
    "    def __init__(self):\n",
    "        print(\"constructor of class d\")\n",
    "\n",
    "if __name__==\"__main__\":\n",
    "    ob1=c()\n",
    "    ob1.show()\n",
    "    \n",
    "    \n",
    "    \n"
   ]
  },
  {
   "cell_type": "code",
   "execution_count": 34,
   "id": "76747ce9-d8b6-45a9-a968-06aab3808aa0",
   "metadata": {},
   "outputs": [
    {
     "name": "stdout",
     "output_type": "stream",
     "text": [
      "professional laptop having 8 512 6 i5\n",
      "gamming laptop having 9 535 2 i7\n"
     ]
    }
   ],
   "source": [
    "class laptop:\n",
    "    def __init__(self,p,r,s):\n",
    "        self.processor=p\n",
    "        self.ram=r\n",
    "        self.storage=s\n",
    "\n",
    "\n",
    "class prof_laptop(laptop):\n",
    "    def __init__(self,bat,p,r,s):\n",
    "        self.battery=bat\n",
    "        super().__init__(p,r,s)\n",
    "\n",
    "class gaming(laptop):\n",
    "    def __init__(self,graph,p,r,s):\n",
    "        self.graph=graph\n",
    "        super().__init__(p,r,s)\n",
    "        \n",
    "pro1=prof_laptop(\"i5\",8,512,6)\n",
    "gam1=gaming(\"i7\",9,535,2)\n",
    "\n",
    "\n",
    "print(\"professional laptop having\",\n",
    "      pro1.processor,pro1.ram,ticket\n",
    "      pro1.storage,pro1.battery)\n",
    "\n",
    "print(\"gamming laptop having\",\n",
    "      gam1.processor,gam1.ram,\n",
    "      gam1.storage,gam1.graph)\n"
   ]
  },
  {
   "cell_type": "code",
   "execution_count": null,
   "id": "854eeb3b-b4af-4c84-96aa-d8faf0fa2faf",
   "metadata": {},
   "outputs": [],
   "source": []
  }
 ],
 "metadata": {
  "kernelspec": {
   "display_name": "Python 3 (ipykernel)",
   "language": "python",
   "name": "python3"
  },
  "language_info": {
   "codemirror_mode": {
    "name": "ipython",
    "version": 3
   },
   "file_extension": ".py",
   "mimetype": "text/x-python",
   "name": "python",
   "nbconvert_exporter": "python",
   "pygments_lexer": "ipython3",
   "version": "3.12.3"
  }
 },
 "nbformat": 4,
 "nbformat_minor": 5
}
