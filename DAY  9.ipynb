{
 "cells": [
  {
   "cell_type": "code",
   "execution_count": 17,
   "id": "16a6b8cd-ec28-4e91-a50f-4c28ee447510",
   "metadata": {},
   "outputs": [
    {
     "name": "stdin",
     "output_type": "stream",
     "text": [
      " (a+b)\n"
     ]
    },
    {
     "name": "stdout",
     "output_type": "stream",
     "text": [
      " ab+\n"
     ]
    }
   ],
   "source": [
    "#                       #\n",
    "  # INFIX TO POSTFIX #\n",
    "\n",
    "\n",
    "def prec(e):\n",
    "    if e ==\"^\":\n",
    "        return 3\n",
    "    elif e==\"*\" or e==\"/\":\n",
    "        return 2\n",
    "    elif e==\"+\" or e==\"-\":\n",
    "        return 1\n",
    "    else:\n",
    "        return -1\n",
    "\n",
    "def asoc(e):\n",
    "    if e=='^':\n",
    "        return 'R'\n",
    "    else: \n",
    "        return 'L'\n",
    "        \n",
    "\n",
    "exp=input()\n",
    "s=[]\n",
    "result=\" \"\n",
    "for e in exp:\n",
    "    if e.isalnum()==True:\n",
    "        result+=e\n",
    "    elif  e=='(':\n",
    "        s.append(e)\n",
    "    elif e==')':\n",
    "        while s[-1]!='(':\n",
    "            result+=s.pop()\n",
    "        s.pop()\n",
    "    else:\n",
    "        while s and (prec(e)<prec(s[-1]) or \n",
    "                     (prec(e)==prec(s[-1])) and asoc(e)=='L'):\n",
    "             result +=s.pop()\n",
    "        s.append(e)\n",
    "while s:\n",
    "    result+=s.pop()\n",
    "         \n",
    "print(result)\n",
    "    "
   ]
  },
  {
   "cell_type": "code",
   "execution_count": 19,
   "id": "14edca70-4a7c-434b-852b-e58cd9c48860",
   "metadata": {},
   "outputs": [
    {
     "name": "stdin",
     "output_type": "stream",
     "text": [
      " a d c r r a a d r d c c\n"
     ]
    },
    {
     "name": "stdout",
     "output_type": "stream",
     "text": [
      "6 ['a', 'd', 'c', 'd', 'r', 'd']\n"
     ]
    }
   ],
   "source": [
    "a=[item for item in input().split()]\n",
    "s=[]\n",
    "for item in a:\n",
    "    if not s:\n",
    "        s.append(item)\n",
    "    elif s[-1] == item:\n",
    "        s.pop()\n",
    "    else:\n",
    "        s.append(item)\n",
    "\n",
    "print(len(s),s)\n",
    "    "
   ]
  },
  {
   "cell_type": "code",
   "execution_count": 26,
   "id": "1c288e52-0f7c-4a9b-a63a-9960b9b8a343",
   "metadata": {},
   "outputs": [
    {
     "name": "stdin",
     "output_type": "stream",
     "text": [
      "  a d c r r a a d r d c c\n"
     ]
    },
    {
     "name": "stdout",
     "output_type": "stream",
     "text": [
      "6 ['a', 'd', 'c', 'd', 'r', 'd']\n"
     ]
    }
   ],
   "source": [
    "# IN a Arcade game,there is a king who got spelled by a witch that,whenever he eat he have to take care of what is the sequence of his food intake\n",
    "# if he eats similar food one after other it will cancle out then,the effect and total energy was decreased\n",
    "# task is to determine the total energy of the king after his meal\n",
    "\n",
    "a=[item for item in input().split()]\n",
    "s=[]\n",
    "for item in a:\n",
    "    if not s:\n",
    "        s.append(item)\n",
    "    elif s[-1]==item:\n",
    "        s.pop()\n",
    "    else:\n",
    "        s.append(item)\n",
    "print(len(s),s)"
   ]
  },
  {
   "cell_type": "code",
   "execution_count": null,
   "id": "8d82397b-9224-46cc-bd3e-2b5eb7ee37a5",
   "metadata": {},
   "outputs": [],
   "source": []
  }
 ],
 "metadata": {
  "kernelspec": {
   "display_name": "Python 3 (ipykernel)",
   "language": "python",
   "name": "python3"
  },
  "language_info": {
   "codemirror_mode": {
    "name": "ipython",
    "version": 3
   },
   "file_extension": ".py",
   "mimetype": "text/x-python",
   "name": "python",
   "nbconvert_exporter": "python",
   "pygments_lexer": "ipython3",
   "version": "3.12.3"
  }
 },
 "nbformat": 4,
 "nbformat_minor": 5
}
